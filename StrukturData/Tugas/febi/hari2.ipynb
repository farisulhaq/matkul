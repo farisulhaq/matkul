{
 "metadata": {
  "language_info": {
   "codemirror_mode": {
    "name": "ipython",
    "version": 3
   },
   "file_extension": ".py",
   "mimetype": "text/x-python",
   "name": "python",
   "nbconvert_exporter": "python",
   "pygments_lexer": "ipython3",
   "version": "3.8.5-final"
  },
  "orig_nbformat": 2,
  "kernelspec": {
   "name": "python385jvsc74a57bd0519d50afa4fa2a031914d1277caf40e3c230f5b9c6026f4a34e283f752d24e49",
   "display_name": "Python 3.8.5 64-bit (conda)"
  }
 },
 "nbformat": 4,
 "nbformat_minor": 2,
 "cells": [
  {
   "cell_type": "code",
   "execution_count": 2,
   "metadata": {},
   "outputs": [],
   "source": [
    "def stack():\n",
    "    s = []\n",
    "    return s\n",
    "def push(s,data):\n",
    "    s.append(data)\n",
    "def pop(s):\n",
    "    data = s.pop()\n",
    "    return data\n",
    "def peep(s):\n",
    "    data = s[len(s)-1]\n",
    "    return (data)\n",
    "def isEmpty(s):\n",
    "    return (s==[])\n",
    "def size(s):\n",
    "    return (len(s))"
   ]
  },
  {
   "cell_type": "code",
   "execution_count": 10,
   "metadata": {},
   "outputs": [],
   "source": [
    "def febi(data):\n",
    "    st = stack() \n",
    "    temp = ''\n",
    "    for i in data:\n",
    "        push(st,i)\n",
    "    while not(isEmpty(st)):\n",
    "        temp += pop(st)\n",
    "    return temp"
   ]
  },
  {
   "cell_type": "code",
   "execution_count": 10,
   "metadata": {},
   "outputs": [
    {
     "output_type": "stream",
     "name": "stdout",
     "text": [
      "Data yang akan diurutkan : [10, 2, 5, 8, 1, 20, 2, 2, 4]\n\n\nIterasi ke- 1 :\nPointer dari kiri ke kanan :\n[2, 10, 5, 8, 1, 20, 2, 2, 4]\n[2, 5, 10, 8, 1, 20, 2, 2, 4]\n[2, 5, 8, 10, 1, 20, 2, 2, 4]\n[2, 5, 8, 1, 10, 20, 2, 2, 4]\n[2, 5, 8, 1, 10, 2, 20, 2, 4]\n[2, 5, 8, 1, 10, 2, 2, 20, 4]\n[2, 5, 8, 1, 10, 2, 2, 4, 20]\n\nPointer dari kanan ke kiri :\n[2, 5, 8, 1, 2, 10, 2, 4, 20]\n[2, 5, 1, 8, 2, 10, 2, 4, 20]\n[2, 1, 5, 8, 2, 10, 2, 4, 20]\n[1, 2, 5, 8, 2, 10, 2, 4, 20]\n\n\nIterasi ke- 2 :\nPointer dari kiri ke kanan :\n[1, 2, 5, 2, 8, 10, 2, 4, 20]\n[1, 2, 5, 2, 8, 2, 10, 4, 20]\n[1, 2, 5, 2, 8, 2, 4, 10, 20]\n\nPointer dari kanan ke kiri :\n[1, 2, 5, 2, 2, 8, 4, 10, 20]\n[1, 2, 2, 5, 2, 8, 4, 10, 20]\n\n\nIterasi ke- 3 :\nPointer dari kiri ke kanan :\n[1, 2, 2, 2, 5, 8, 4, 10, 20]\n[1, 2, 2, 2, 5, 4, 8, 10, 20]\n\nPointer dari kanan ke kiri :\n[1, 2, 2, 2, 4, 5, 8, 10, 20]\n\n========================================\nData urut- [1, 2, 2, 2, 4, 5, 8, 10, 20]\nTotal Iterasi Kiri  => Kanan :  12\nTotal Iterasi Kanan => Kiri  :  7\n\n"
     ]
    }
   ],
   "source": [
    "def sorting(a):\n",
    "    for i in range(len(a)-1):\n",
    "        if a[i] <= a[i+1]:\n",
    "            pass\n",
    "        else:\n",
    "            return False\n",
    "    return True\n",
    "\n",
    "def bubbleSort(listData):\n",
    "    iteration = {'it_kiri':0, 'it_kanan':0}\n",
    "    print('Data yang akan diurutkan :',listData)\n",
    "    count=0\n",
    "    if sorting(listData) == False:\n",
    "        for outIter in range(len(listData)-1,-1,-1):\n",
    "            if sorting(listData) == False:\n",
    "                print('\\n')\n",
    "                count=count+1\n",
    "                print ('Iterasi ke-', count,':')\n",
    "\n",
    "                print('Pointer dari kiri ke kanan :')\n",
    "                for i in range(outIter):\n",
    "                    if listData[i]>listData[i+1]:\n",
    "                        temp=listData[i]\n",
    "                        listData[i]=listData[i+1]\n",
    "                        listData[i+1]=temp\n",
    "                        iteration['it_kiri'] += 1\n",
    "                        print(listData)\n",
    "\n",
    "                print('')\n",
    "\n",
    "                if sorting(listData) == False:\n",
    "                    print('Pointer dari kanan ke kiri :')\n",
    "                    for j in range(outIter, 0, -1):\n",
    "                        if listData[j] < listData[j-1]:\n",
    "                            temp = listData[j]\n",
    "                            listData[j] = listData[j-1]\n",
    "                            listData[j-1] = temp\n",
    "                            iteration['it_kanan'] += 1\n",
    "                            print(listData)\n",
    "            else:\n",
    "                pass    \n",
    "        \n",
    "        print('')\n",
    "        print('='*40)\n",
    "        print('Data urut-',listData)\n",
    "        print('Total Iterasi Kiri  => Kanan : ',iteration['it_kiri'])\n",
    "        print('Total Iterasi Kanan => Kiri  : ',iteration['it_kanan'])\n",
    "        print('')\n",
    "    else:\n",
    "        print('\\nMaaf, namun data sudah urut:',listData)\n",
    "\n",
    "listData = [10,2,5,8,1,20,2,2,4]\n",
    "bubbleSort(listData)"
   ]
  }
 ]
}