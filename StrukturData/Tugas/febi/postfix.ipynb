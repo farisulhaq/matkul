{
 "metadata": {
  "language_info": {
   "codemirror_mode": {
    "name": "ipython",
    "version": 3
   },
   "file_extension": ".py",
   "mimetype": "text/x-python",
   "name": "python",
   "nbconvert_exporter": "python",
   "pygments_lexer": "ipython3",
   "version": "3.8.3-final"
  },
  "orig_nbformat": 2,
  "kernelspec": {
   "name": "python3",
   "display_name": "Python 3",
   "language": "python"
  }
 },
 "nbformat": 4,
 "nbformat_minor": 2,
 "cells": [
  {
   "cell_type": "code",
   "execution_count": null,
   "metadata": {},
   "outputs": [],
   "source": [
    "from stack import *"
   ]
  },
  {
   "cell_type": "code",
   "execution_count": null,
   "metadata": {},
   "outputs": [],
   "source": [
    "def febi(data):\n",
    "    st = stack() \n",
    "    temp = ''\n",
    "    for i in data:\n",
    "        push(st,i)\n",
    "    while not(isEmpty(st)):\n",
    "        temp += pop(st)\n",
    "    return temp"
   ]
  },
  {
   "cell_type": "code",
   "execution_count": 29,
   "metadata": {
    "tags": []
   },
   "outputs": [],
   "source": [
    "def cek_kurung(data):\n",
    "    s = stack()\n",
    "    cek = True\n",
    "    for i in data:\n",
    "        if i == '(':\n",
    "            push(s,i)\n",
    "        elif i == ')' and not(isEmpty(s)) and peek(s) == '(':\n",
    "            pop(s)\n",
    "        elif i == ')' and isEmpty(s):\n",
    "            cek = False\n",
    "            print('kelebihan tutup kurung')\n",
    "    while not(isEmpty(s)):\n",
    "        pop(s)\n",
    "        cek = False \n",
    "        print('kelebihan kurung buka')\n",
    "    return cek\n"
   ]
  },
  {
   "cell_type": "code",
   "execution_count": 45,
   "metadata": {},
   "outputs": [],
   "source": [
    "def InfixtoPostfix(data):\n",
    "    if cek_kurung(data):\n",
    "        operator = {'*':2,'/':2,'+':1,'-':1}\n",
    "        st = stack()\n",
    "        output = []\n",
    "        febi = data.split()\n",
    "        angka = '0123456789'\n",
    "        for i in febi:\n",
    "            if i in angka:\n",
    "                output.append(i)\n",
    "            elif i == '(':\n",
    "                push(st,i)\n",
    "            elif i == ')':\n",
    "                temp = pop(st)\n",
    "                while temp != '(':\n",
    "                    output.append(temp)\n",
    "                    temp = pop(st)\n",
    "            else:\n",
    "                while not(isEmpty) and operator[peep(st)] >= operator[i]:\n",
    "                    output.append(pop(st))\n",
    "                push(st,i)\n",
    "        while not(isEmpty(st)):\n",
    "            output.append(pop(st))\n",
    "        return \" \".join(output)"
   ]
  },
  {
   "cell_type": "code",
   "execution_count": 46,
   "metadata": {},
   "outputs": [
    {
     "output_type": "stream",
     "name": "stdout",
     "text": [
      "kelebihan kurung buka\n"
     ]
    }
   ],
   "source": [
    "data = '( 1 + 2  * ( 3 - 4 )'\n",
    "InfixtoPostfix(data)"
   ]
  },
  {
   "cell_type": "code",
   "execution_count": null,
   "metadata": {},
   "outputs": [],
   "source": []
  }
 ]
}