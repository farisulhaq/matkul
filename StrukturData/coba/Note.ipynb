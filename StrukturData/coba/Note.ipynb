{
 "metadata": {
  "language_info": {
   "codemirror_mode": {
    "name": "ipython",
    "version": 3
   },
   "file_extension": ".py",
   "mimetype": "text/x-python",
   "name": "python",
   "nbconvert_exporter": "python",
   "pygments_lexer": "ipython3",
   "version": "3.8.5"
  },
  "orig_nbformat": 2,
  "kernelspec": {
   "name": "python385jvsc74a57bd0519d50afa4fa2a031914d1277caf40e3c230f5b9c6026f4a34e283f752d24e49",
   "display_name": "Python 3.8.5 64-bit (conda)"
  }
 },
 "nbformat": 4,
 "nbformat_minor": 2,
 "cells": [
  {
   "cell_type": "code",
   "execution_count": 4,
   "metadata": {},
   "outputs": [],
   "source": [
    "import turtle\n"
   ]
  },
  {
   "cell_type": "code",
   "execution_count": 5,
   "metadata": {},
   "outputs": [],
   "source": [
    "my_turtle = turtle.Turtle()\n",
    "my_win = turtle.Screen()\n",
    "def draw_square(my_turtle, line_len,a,lvl,b):\n",
    "    if b<lvl+1:\n",
    "        if a<4:\n",
    "            if line_len > 0:\n",
    "                my_turtle.forward(line_len/2)\n",
    "                my_turtle.right(90)\n",
    "                my_turtle.forward(line_len)\n",
    "                my_turtle.right(90)\n",
    "                my_turtle.forward(line_len/2)\n",
    "                my_turtle.right(90)\n",
    "        #         draw_square(my_turtle, line_len,a+1,lvl,b)\n",
    "        # else:\n",
    "        #     draw_square(my_turtle, line_len/2,0,lvl,b+1)\n",
    "\n",
    "draw_square(my_turtle,300,0,0,0)\n",
    "my_win.exitonclick()"
   ]
  },
  {
   "cell_type": "code",
   "execution_count": 8,
   "metadata": {},
   "outputs": [
    {
     "output_type": "error",
     "ename": "NameError",
     "evalue": "name 'left' is not defined",
     "traceback": [
      "\u001b[1;31m---------------------------------------------------------------------------\u001b[0m",
      "\u001b[1;31mNameError\u001b[0m                                 Traceback (most recent call last)",
      "\u001b[1;32m<ipython-input-8-971a3488307c>\u001b[0m in \u001b[0;36m<module>\u001b[1;34m\u001b[0m\n\u001b[0;32m      3\u001b[0m \u001b[1;32mwhile\u001b[0m \u001b[1;32mTrue\u001b[0m\u001b[1;33m:\u001b[0m\u001b[1;33m\u001b[0m\u001b[1;33m\u001b[0m\u001b[0m\n\u001b[0;32m      4\u001b[0m     \u001b[0mturtle\u001b[0m\u001b[1;33m.\u001b[0m\u001b[0mforward\u001b[0m\u001b[1;33m(\u001b[0m\u001b[1;36m300\u001b[0m\u001b[1;33m)\u001b[0m\u001b[1;33m\u001b[0m\u001b[1;33m\u001b[0m\u001b[0m\n\u001b[1;32m----> 5\u001b[1;33m     \u001b[0mleft\u001b[0m\u001b[1;33m(\u001b[0m\u001b[1;36m170\u001b[0m\u001b[1;33m)\u001b[0m\u001b[1;33m\u001b[0m\u001b[1;33m\u001b[0m\u001b[0m\n\u001b[0m\u001b[0;32m      6\u001b[0m     \u001b[1;32mif\u001b[0m \u001b[0mabs\u001b[0m\u001b[1;33m(\u001b[0m\u001b[0mturtle\u001b[0m\u001b[1;33m.\u001b[0m\u001b[0mpos\u001b[0m\u001b[1;33m(\u001b[0m\u001b[1;33m)\u001b[0m\u001b[1;33m)\u001b[0m \u001b[1;33m<\u001b[0m \u001b[1;36m1\u001b[0m\u001b[1;33m:\u001b[0m\u001b[1;33m\u001b[0m\u001b[1;33m\u001b[0m\u001b[0m\n\u001b[0;32m      7\u001b[0m         \u001b[1;32mbreak\u001b[0m\u001b[1;33m\u001b[0m\u001b[1;33m\u001b[0m\u001b[0m\n",
      "\u001b[1;31mNameError\u001b[0m: name 'left' is not defined"
     ]
    }
   ],
   "source": [
    "turtle.color('red', 'yellow')\n",
    "turtle.begin_fill()\n",
    "while True:\n",
    "    turtle.forward(300)\n",
    "    turtle.left(170)\n",
    "    if abs(turtle.pos()) < 1:\n",
    "        break\n",
    "turtle.end_fill()\n",
    "turtle.done()"
   ]
  },
  {
   "cell_type": "code",
   "execution_count": null,
   "metadata": {},
   "outputs": [],
   "source": [
    "for i in range(4):\n",
    "    turtle.fd(50); turtle.lt(80)"
   ]
  },
  {
   "cell_type": "code",
   "execution_count": 1,
   "metadata": {},
   "outputs": [
    {
     "output_type": "stream",
     "name": "stdout",
     "text": [
      "febi 1\nfebi 2\nfebi 3\nfebi 4\n"
     ]
    }
   ],
   "source": [
    "def febiLol(n,awal,bantuan,tujuan):\n",
    "    if n > 0:\n",
    "        febiLol(n-1,awal,tujuan,bantuan)\n",
    "        print(f\"febi {n}\")\n",
    "febiLol(4,\"A\",\"B\",\"C\")"
   ]
  },
  {
   "source": [
    "## Tower OF Hanoi LIST"
   ],
   "cell_type": "markdown",
   "metadata": {}
  },
  {
   "cell_type": "code",
   "execution_count": 12,
   "metadata": {},
   "outputs": [
    {
     "output_type": "stream",
     "name": "stdout",
     "text": [
      "Perpindahan 4 Lempengan dari A ke C dengan menggunakan Bantuan B\nA:\n|1|\n|2|\n|3|\n|4|\n\nB:\n\nC:\n\nlempengan - 1 dari - A ke - B\nA:\n|2|\n|3|\n|4|\n\nB:\n|1|\n\nC:\n\nlempengan - 2 dari - A ke - C\nA:\n|3|\n|4|\n\nB:\n|1|\n\nC:\n|2|\n\nlempengan - 1 dari - B ke - C\nA:\n|3|\n|4|\n\nB:\n\nC:\n|1|\n|2|\n\nlempengan - 3 dari - A ke - B\nA:\n|4|\n\nB:\n|3|\n\nC:\n|1|\n|2|\n\nlempengan - 1 dari - C ke - A\nA:\n|1|\n|4|\n\nB:\n|3|\n\nC:\n|2|\n\nlempengan - 2 dari - C ke - B\nA:\n|1|\n|4|\n\nB:\n|2|\n|3|\n\nC:\n\nlempengan - 1 dari - A ke - B\nA:\n|4|\n\nB:\n|1|\n|2|\n|3|\n\nC:\n\nlempengan - 4 dari - A ke - C\nA:\n\nB:\n|1|\n|2|\n|3|\n\nC:\n|4|\n\nlempengan - 1 dari - B ke - C\nA:\n\nB:\n|2|\n|3|\n\nC:\n|1|\n|4|\n\nlempengan - 2 dari - B ke - A\nA:\n|2|\n\nB:\n|3|\n\nC:\n|1|\n|4|\n\nlempengan - 1 dari - C ke - A\nA:\n|1|\n|2|\n\nB:\n|3|\n\nC:\n|4|\n\nlempengan - 3 dari - B ke - C\nA:\n|1|\n|2|\n\nB:\n\nC:\n|3|\n|4|\n\nlempengan - 1 dari - A ke - B\nA:\n|2|\n\nB:\n|1|\n\nC:\n|3|\n|4|\n\nlempengan - 2 dari - A ke - C\nA:\n\nB:\n|1|\n\nC:\n|2|\n|3|\n|4|\n\nlempengan - 1 dari - B ke - C\nA:\n\nB:\n\nC:\n|1|\n|2|\n|3|\n|4|\n\n"
     ]
    }
   ],
   "source": [
    "def  towers(n,awal,bantuan,tujuan):\n",
    "    if n == 0:\n",
    "        return \n",
    "    else:\n",
    "        towers(n-1,awal,tujuan,bantuan)\n",
    "        urut(n,awal,tujuan)\n",
    "        print(f\"A:\\n{display(A)}\\nB:\\n{display(B)}\\nC:\\n{display(C)}\")\n",
    "        towers(n-1,bantuan,awal,tujuan)\n",
    "\n",
    "def urut(n,awal,tujuan):\n",
    "    print(f'lempengan - {n} dari - {awal[0]} ke - {tujuan[0]}')\n",
    "    temp = awal[1].pop(0)\n",
    "    tujuan[1].insert(0,temp)\n",
    "\n",
    "def display(data):\n",
    "    temp = \"\"\n",
    "    for i in (data[1]):\n",
    "        temp += (f'|{i}|\\n')\n",
    "    return temp\n",
    "\n",
    "n = 4\n",
    "A = [\"A\",[i for i in range(1,n+1)]]\n",
    "B = [\"B\",[]]\n",
    "C = [\"C\",[]]\n",
    "print(f\"Perpindahan {n} Lempengan dari A ke C dengan menggunakan Bantuan B\")\n",
    "print(f\"A:\\n{display(A)}\\nB:\\n{display(B)}\\nC:\\n{display(C)}\")\n",
    "\n",
    "towers(n,A,B,C)"
   ]
  },
  {
   "source": [
    "## Tower Of Hanoi DICT"
   ],
   "cell_type": "markdown",
   "metadata": {}
  },
  {
   "cell_type": "code",
   "execution_count": 11,
   "metadata": {},
   "outputs": [
    {
     "output_type": "stream",
     "name": "stdout",
     "text": [
      "A:\n|1|\n|2|\n|3|\n|4|\n\nB:\n\nC:\n\nlempengan - 1 dari - A ke - B\nA:\n|2|\n|3|\n|4|\n\nB:\n|1|\n\nC:\n\nlempengan - 2 dari - A ke - C\nA:\n|3|\n|4|\n\nB:\n|1|\n\nC:\n|2|\n\nlempengan - 1 dari - B ke - C\nA:\n|3|\n|4|\n\nB:\n\nC:\n|1|\n|2|\n\nlempengan - 3 dari - A ke - B\nA:\n|4|\n\nB:\n|3|\n\nC:\n|1|\n|2|\n\nlempengan - 1 dari - C ke - A\nA:\n|1|\n|4|\n\nB:\n|3|\n\nC:\n|2|\n\nlempengan - 2 dari - C ke - B\nA:\n|1|\n|4|\n\nB:\n|2|\n|3|\n\nC:\n\nlempengan - 1 dari - A ke - B\nA:\n|4|\n\nB:\n|1|\n|2|\n|3|\n\nC:\n\nlempengan - 4 dari - A ke - C\nA:\n\nB:\n|1|\n|2|\n|3|\n\nC:\n|4|\n\nlempengan - 1 dari - B ke - C\nA:\n\nB:\n|2|\n|3|\n\nC:\n|1|\n|4|\n\nlempengan - 2 dari - B ke - A\nA:\n|2|\n\nB:\n|3|\n\nC:\n|1|\n|4|\n\nlempengan - 1 dari - C ke - A\nA:\n|1|\n|2|\n\nB:\n|3|\n\nC:\n|4|\n\nlempengan - 3 dari - B ke - C\nA:\n|1|\n|2|\n\nB:\n\nC:\n|3|\n|4|\n\nlempengan - 1 dari - A ke - B\nA:\n|2|\n\nB:\n|1|\n\nC:\n|3|\n|4|\n\nlempengan - 2 dari - A ke - C\nA:\n\nB:\n|1|\n\nC:\n|2|\n|3|\n|4|\n\nlempengan - 1 dari - B ke - C\nA:\n\nB:\n\nC:\n|1|\n|2|\n|3|\n|4|\n\n"
     ]
    }
   ],
   "source": [
    "\n",
    "def  towers(n,awal,bantuan,tujuan):\n",
    "    if n == 0:\n",
    "        return \n",
    "    else:\n",
    "        towers(n-1,awal,tujuan,bantuan)\n",
    "        urut(n,awal,tujuan)\n",
    "        print(\"A:\\n{}\\nB:\\n{}\\nC:\\n{}\".format(display('A'),display('B'),display('C')))\n",
    "        towers(n-1,bantuan,awal,tujuan)\n",
    "\n",
    "def urut(n,awal,tujuan):\n",
    "    print(f'lempengan - {n} dari - {awal} ke - {tujuan}')\n",
    "    temp = Data[awal].pop(0)\n",
    "    Data[tujuan].insert(0,temp)\n",
    "\n",
    "def display(data):\n",
    "    temp = \"\"\n",
    "    for i in (Data[data]):\n",
    "        temp += f'|{i}|\\n'\n",
    "    return temp\n",
    "\n",
    "Data = {\n",
    "    \"A\":[1,2,3,4],\n",
    "    \"B\":[],\n",
    "    \"C\":[]\n",
    "}\n",
    "print(f\"Perpindahan {n} Lempengan dari A ke C dengan menggunakan Bantuan B\")\n",
    "print(\"A:\\n{}\\nB:\\n{}\\nC:\\n{}\".format(display('A'),display('B'),display('C')))\n",
    "\n",
    "towers(4,\"A\",\"B\",\"C\")"
   ]
  },
  {
   "cell_type": "code",
   "execution_count": 8,
   "metadata": {},
   "outputs": [
    {
     "output_type": "stream",
     "name": "stdout",
     "text": [
      "[4]\n"
     ]
    }
   ],
   "source": []
  }
 ]
}