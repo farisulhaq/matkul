{
 "metadata": {
  "language_info": {
   "codemirror_mode": {
    "name": "ipython",
    "version": 3
   },
   "file_extension": ".py",
   "mimetype": "text/x-python",
   "name": "python",
   "nbconvert_exporter": "python",
   "pygments_lexer": "ipython3",
   "version": "3.8.5"
  },
  "orig_nbformat": 2,
  "kernelspec": {
   "name": "python385jvsc74a57bd0519d50afa4fa2a031914d1277caf40e3c230f5b9c6026f4a34e283f752d24e49",
   "display_name": "Python 3.8.5 64-bit ('base': conda)"
  },
  "metadata": {
   "interpreter": {
    "hash": "f267cf10368a98ae7825624f2dd7ec9bbb250b5c4ca499253af831a3c4532594"
   }
  }
 },
 "nbformat": 4,
 "nbformat_minor": 2,
 "cells": [
  {
   "source": [
    "## Rekursif Turtle"
   ],
   "cell_type": "markdown",
   "metadata": {}
  },
  {
   "cell_type": "code",
   "execution_count": 1,
   "metadata": {},
   "outputs": [],
   "source": [
    "import turtle"
   ]
  },
  {
   "cell_type": "code",
   "execution_count": null,
   "metadata": {},
   "outputs": [],
   "source": [
    "my_turtle = turtle.Turtle()\n",
    "my_win = turtle.Screen()\n",
    "def draw_square(my_turtle, line_len,a,lvl,b):\n",
    "    if b<lvl:\n",
    "        if a<4:\n",
    "            if line_len > 0:\n",
    "                my_turtle.forward(line_len/2)\n",
    "                my_turtle.right(90)\n",
    "                my_turtle.forward(line_len)\n",
    "                my_turtle.right(90)\n",
    "                my_turtle.forward(line_len/2)\n",
    "                my_turtle.right(90)\n",
    "                draw_square(my_turtle, line_len,a+1,lvl,b)\n",
    "        else:\n",
    "            draw_square(my_turtle, line_len/2,0,lvl,b+1)\n",
    "\n",
    "draw_square(my_turtle,300,0,5,0)\n",
    "my_win.exitonclick()"
   ]
  },
  {
   "source": [
    "## Tower OF Hanoi LIST"
   ],
   "cell_type": "markdown",
   "metadata": {}
  },
  {
   "cell_type": "code",
   "execution_count": 2,
   "metadata": {},
   "outputs": [
    {
     "output_type": "stream",
     "name": "stdout",
     "text": [
      "Perpindahan 4 Lempengan dari A ke C dengan menggunakan Bantuan B\nA:\n|1|\n|2|\n|3|\n|4|\n\nB:\n\nC:\n\nlempengan - 1 dari - A ke - B\nA:\n|2|\n|3|\n|4|\n\nB:\n|1|\n\nC:\n\nlempengan - 2 dari - A ke - C\nA:\n|3|\n|4|\n\nB:\n|1|\n\nC:\n|2|\n\nlempengan - 1 dari - B ke - C\nA:\n|3|\n|4|\n\nB:\n\nC:\n|1|\n|2|\n\nlempengan - 3 dari - A ke - B\nA:\n|4|\n\nB:\n|3|\n\nC:\n|1|\n|2|\n\nlempengan - 1 dari - C ke - A\nA:\n|1|\n|4|\n\nB:\n|3|\n\nC:\n|2|\n\nlempengan - 2 dari - C ke - B\nA:\n|1|\n|4|\n\nB:\n|2|\n|3|\n\nC:\n\nlempengan - 1 dari - A ke - B\nA:\n|4|\n\nB:\n|1|\n|2|\n|3|\n\nC:\n\nlempengan - 4 dari - A ke - C\nA:\n\nB:\n|1|\n|2|\n|3|\n\nC:\n|4|\n\nlempengan - 1 dari - B ke - C\nA:\n\nB:\n|2|\n|3|\n\nC:\n|1|\n|4|\n\nlempengan - 2 dari - B ke - A\nA:\n|2|\n\nB:\n|3|\n\nC:\n|1|\n|4|\n\nlempengan - 1 dari - C ke - A\nA:\n|1|\n|2|\n\nB:\n|3|\n\nC:\n|4|\n\nlempengan - 3 dari - B ke - C\nA:\n|1|\n|2|\n\nB:\n\nC:\n|3|\n|4|\n\nlempengan - 1 dari - A ke - B\nA:\n|2|\n\nB:\n|1|\n\nC:\n|3|\n|4|\n\nlempengan - 2 dari - A ke - C\nA:\n\nB:\n|1|\n\nC:\n|2|\n|3|\n|4|\n\nlempengan - 1 dari - B ke - C\nA:\n\nB:\n\nC:\n|1|\n|2|\n|3|\n|4|\n\n"
     ]
    }
   ],
   "source": [
    "def  towers(n,awal,bantuan,tujuan):\n",
    "    if n == 0:\n",
    "        return \n",
    "    else:\n",
    "        towers(n-1,awal,tujuan,bantuan)\n",
    "        move(n,awal,tujuan)\n",
    "        print(f\"A:\\n{display(A)}\\nB:\\n{display(B)}\\nC:\\n{display(C)}\")\n",
    "        towers(n-1,bantuan,awal,tujuan)\n",
    "\n",
    "def move(n,awal,tujuan):\n",
    "    print(f'lempengan - {n} dari - {awal[0]} ke - {tujuan[0]}')\n",
    "    temp = awal[1].pop(0)\n",
    "    tujuan[1].insert(0,temp)\n",
    "\n",
    "def display(data):\n",
    "    temp = \"\"\n",
    "    for i in (data[1]):\n",
    "        temp += (f'|{i}|\\n')\n",
    "    return temp\n",
    "\n",
    "n = 4\n",
    "A = [\"A\",[i for i in range(1,n+1)]]\n",
    "B = [\"B\",[]]\n",
    "C = [\"C\",[]]\n",
    "print(f\"Perpindahan {n} Lempengan dari A ke C dengan menggunakan Bantuan B\")\n",
    "print(f\"A:\\n{display(A)}\\nB:\\n{display(B)}\\nC:\\n{display(C)}\")\n",
    "\n",
    "towers(n,A,B,C)"
   ]
  },
  {
   "source": [
    "## Tower Of Hanoi DICT"
   ],
   "cell_type": "markdown",
   "metadata": {}
  },
  {
   "cell_type": "code",
   "execution_count": 3,
   "metadata": {},
   "outputs": [
    {
     "output_type": "stream",
     "name": "stdout",
     "text": [
      "Perpindahan 4 Lempengan dari A ke C dengan menggunakan Bantuan B\nA:\n|1|\n|2|\n|3|\n|4|\n\nB:\n\nC:\n\nlempengan - 1 dari - A ke - B\nA:\n|2|\n|3|\n|4|\n\nB:\n|1|\n\nC:\n\nlempengan - 2 dari - A ke - C\nA:\n|3|\n|4|\n\nB:\n|1|\n\nC:\n|2|\n\nlempengan - 1 dari - B ke - C\nA:\n|3|\n|4|\n\nB:\n\nC:\n|1|\n|2|\n\nlempengan - 3 dari - A ke - B\nA:\n|4|\n\nB:\n|3|\n\nC:\n|1|\n|2|\n\nlempengan - 1 dari - C ke - A\nA:\n|1|\n|4|\n\nB:\n|3|\n\nC:\n|2|\n\nlempengan - 2 dari - C ke - B\nA:\n|1|\n|4|\n\nB:\n|2|\n|3|\n\nC:\n\nlempengan - 1 dari - A ke - B\nA:\n|4|\n\nB:\n|1|\n|2|\n|3|\n\nC:\n\nlempengan - 4 dari - A ke - C\nA:\n\nB:\n|1|\n|2|\n|3|\n\nC:\n|4|\n\nlempengan - 1 dari - B ke - C\nA:\n\nB:\n|2|\n|3|\n\nC:\n|1|\n|4|\n\nlempengan - 2 dari - B ke - A\nA:\n|2|\n\nB:\n|3|\n\nC:\n|1|\n|4|\n\nlempengan - 1 dari - C ke - A\nA:\n|1|\n|2|\n\nB:\n|3|\n\nC:\n|4|\n\nlempengan - 3 dari - B ke - C\nA:\n|1|\n|2|\n\nB:\n\nC:\n|3|\n|4|\n\nlempengan - 1 dari - A ke - B\nA:\n|2|\n\nB:\n|1|\n\nC:\n|3|\n|4|\n\nlempengan - 2 dari - A ke - C\nA:\n\nB:\n|1|\n\nC:\n|2|\n|3|\n|4|\n\nlempengan - 1 dari - B ke - C\nA:\n\nB:\n\nC:\n|1|\n|2|\n|3|\n|4|\n\n"
     ]
    }
   ],
   "source": [
    "\n",
    "def  towers(n,awal,bantuan,tujuan):\n",
    "    if n == 0:\n",
    "        return \n",
    "    else:\n",
    "        towers(n-1,awal,tujuan,bantuan)\n",
    "        move(n,awal,tujuan)\n",
    "        print(\"A:\\n{}\\nB:\\n{}\\nC:\\n{}\".format(display('A'),display('B'),display('C')))\n",
    "        towers(n-1,bantuan,awal,tujuan)\n",
    "\n",
    "def move(n,awal,tujuan):\n",
    "    print(f'lempengan - {n} dari - {awal} ke - {tujuan}')\n",
    "    temp = Data[awal].pop(0)\n",
    "    Data[tujuan].insert(0,temp)\n",
    "\n",
    "def display(data):\n",
    "    temp = \"\"\n",
    "    for i in (Data[data]):\n",
    "        temp += f'|{i}|\\n'\n",
    "    return temp\n",
    "\n",
    "Data = {\n",
    "    \"A\":[1,2,3,4],\n",
    "    \"B\":[],\n",
    "    \"C\":[]\n",
    "}\n",
    "print(f\"Perpindahan {n} Lempengan dari A ke C dengan menggunakan Bantuan B\")\n",
    "print(\"A:\\n{}\\nB:\\n{}\\nC:\\n{}\".format(display('A'),display('B'),display('C')))\n",
    "\n",
    "towers(4,\"A\",\"B\",\"C\")"
   ]
  },
  {
   "source": [
    "## Unordered Search"
   ],
   "cell_type": "markdown",
   "metadata": {}
  },
  {
   "source": [
    "### 1. Unordered Search"
   ],
   "cell_type": "markdown",
   "metadata": {}
  },
  {
   "cell_type": "code",
   "execution_count": 4,
   "metadata": {},
   "outputs": [
    {
     "output_type": "stream",
     "name": "stdout",
     "text": [
      "True\n"
     ]
    }
   ],
   "source": [
    "def seqSearch(listData, data):\n",
    "    ind = 0\n",
    "    found = False\n",
    "    while ind < len(listData) and not found:\n",
    "        if listData[ind] == data:\n",
    "            found = True\n",
    "        else:\n",
    "            ind = ind+1\n",
    "    return found\n",
    "\n",
    "a = [1,5,9,8,1,5,10,26,5,12]\n",
    "search = seqSearch(a,1)\n",
    "print(search)"
   ]
  },
  {
   "source": [
    "### 2. Modifikasi Unordered Search"
   ],
   "cell_type": "markdown",
   "metadata": {}
  },
  {
   "cell_type": "code",
   "execution_count": 5,
   "metadata": {},
   "outputs": [
    {
     "output_type": "stream",
     "name": "stdout",
     "text": [
      "Posisi Data = [1, 5, 8]\nJumlah Iterasi = 10\n"
     ]
    }
   ],
   "source": [
    "def seqSearch(listData,data):\n",
    "    temp = []\n",
    "    ind = 0\n",
    "    while ind < len(listData):\n",
    "        if data == listData[ind]:\n",
    "            temp.append(ind)\n",
    "        ind += 1\n",
    "    if temp == []:\n",
    "        temp = \"Data Tidak Ada\"\n",
    "    return temp,ind\n",
    "\n",
    "a = [1,5,9,8,1,5,10,26,5,12]\n",
    "[hasil,jumlahIterasi] = seqSearch(a,5)\n",
    "print(\"Posisi Data =\",hasil)\n",
    "print(\"Jumlah Iterasi =\",jumlahIterasi)"
   ]
  },
  {
   "source": [
    "## Ordered Search"
   ],
   "cell_type": "markdown",
   "metadata": {}
  },
  {
   "cell_type": "code",
   "execution_count": 6,
   "metadata": {},
   "outputs": [
    {
     "output_type": "stream",
     "name": "stdout",
     "text": [
      "Posisi Data = [2, 3, 4]\nJumlah Iterasi = 6\n"
     ]
    }
   ],
   "source": [
    "def orderedSeqSch(listData,data):\n",
    "    temp = []\n",
    "    found = False\n",
    "    ind = 0\n",
    "    while ind < len(listData) and not found:\n",
    "        if data == listData[ind]:\n",
    "            temp.append(ind)\n",
    "        elif data < listData[ind]:\n",
    "            found = True\n",
    "        ind += 1\n",
    "    if temp == []:\n",
    "        temp = \"Data Tidak Ada\"\n",
    "    return temp,ind\n",
    "\n",
    "a = [1,1,5,5,5,8,9,10,12,26]\n",
    "[hasil,iterasi] = orderedSeqSch(a,5)\n",
    "print(\"Posisi Data =\",hasil)\n",
    "print(\"Jumlah Iterasi =\",iterasi)"
   ]
  },
  {
   "cell_type": "code",
   "execution_count": 7,
   "metadata": {
    "tags": []
   },
   "outputs": [
    {
     "output_type": "stream",
     "name": "stdout",
     "text": [
      "posisi data =  data tidak ada\njumlah iterasi =  1\n"
     ]
    }
   ],
   "source": [
    "def seqsearch(data,search):\n",
    "    temp=[]\n",
    "    count=0\n",
    "    for i in range(len(data)):\n",
    "        if data[i]==search:\n",
    "          temp.append(i)\n",
    "        elif data[i] > search:\n",
    "            count+=1\n",
    "            break\n",
    "        count+=1\n",
    "    if temp==[]:\n",
    "        temp = \"data tidak ada\"\n",
    "    return temp,count\n",
    "\n",
    "data=[1,1,5,5,5,8,9,10,12,26]\n",
    "[hasil,jumlahIterasi]=seqsearch(data, 0)\n",
    "print(\"posisi data = \",hasil)\n",
    "print(\"jumlah iterasi = \",jumlahIterasi)"
   ]
  },
  {
   "cell_type": "code",
   "execution_count": 8,
   "metadata": {
    "tags": []
   },
   "outputs": [
    {
     "output_type": "stream",
     "name": "stdout",
     "text": [
      "posisi data =  [9]\njumlah iterasi =  10\n"
     ]
    }
   ],
   "source": [
    "def orderedseqsch(data,search):\n",
    "    count=0\n",
    "    temp=[]\n",
    "    for i in range(len(data)):\n",
    "        start=True\n",
    "        if data[i]==search:\n",
    "            while start:\n",
    "                if data[i]!=search:\n",
    "                    start = False\n",
    "                else:\n",
    "                    temp.append(i)\n",
    "                    start = False\n",
    "        elif data[i] > search:\n",
    "            count += 1\n",
    "            break\n",
    "        count+=1\n",
    "    if temp==[]:\n",
    "        return \"Data tidak ada\",count\n",
    "    return temp,count\n",
    "\n",
    "data=[1,1,5,5,5,8,9,10,12,26]\n",
    "[hasil,jumlahIterasi]=orderedseqsch(data,26)\n",
    "print(\"posisi data = \",hasil)\n",
    "print(\"jumlah iterasi = \",jumlahIterasi)"
   ]
  },
  {
   "source": [
    "## Binary Search"
   ],
   "cell_type": "markdown",
   "metadata": {}
  },
  {
   "cell_type": "code",
   "execution_count": 10,
   "metadata": {},
   "outputs": [
    {
     "output_type": "stream",
     "name": "stdout",
     "text": [
      "Posisi Data = [5, 2, 3, 4]\nJumlah Iterasi = 4\n"
     ]
    }
   ],
   "source": [
    "def binSearch(listdata,data):\n",
    "    first = 0\n",
    "    last = len(listdata) - 1\n",
    "    temp = []\n",
    "    found = False\n",
    "    ind = 0\n",
    "    while first <= last and not found:\n",
    "        mid = (first + last) // 2\n",
    "        if data == listdata[mid]:\n",
    "            temp.append(mid)\n",
    "            if data == listdata[mid + 1]:\n",
    "                first = mid + 1\n",
    "            elif data == listdata[mid - 1]:\n",
    "                last = mid - 1\n",
    "            else:\n",
    "                found = True\n",
    "        else:\n",
    "            if data < listdata[mid]:\n",
    "                last = mid - 1\n",
    "            else:\n",
    "                first = mid + 1\n",
    "        ind += 1\n",
    "    if temp == []:\n",
    "        temp = \"Data Tidak Ada\"\n",
    "    return temp,ind\n",
    "\n",
    "a = [1,1,5,5,5,5,8,9,10,12,26]\n",
    "[hasil,iterasi] = binSearch(a,5)\n",
    "print(\"Posisi Data =\",hasil)\n",
    "print(\"Jumlah Iterasi =\",iterasi)"
   ]
  },
  {
   "source": [
    "### Rekursif Binary Search"
   ],
   "cell_type": "markdown",
   "metadata": {}
  },
  {
   "cell_type": "code",
   "execution_count": 11,
   "metadata": {},
   "outputs": [
    {
     "output_type": "stream",
     "name": "stdout",
     "text": [
      "Posisi Data = [4, 2, 3]\nJumlah Iterasi = 4\n"
     ]
    }
   ],
   "source": [
    "def binarySearch2(listData, data, awal, akhir, iterasi, listNol=[]):\n",
    "    if awal > akhir:\n",
    "        if listNol == []:\n",
    "            return \"Data Tidak Ada\",iterasi\n",
    "        else:\n",
    "            return listNol,iterasi\n",
    "    else:\n",
    "        mid = (awal + akhir) // 2\n",
    "        if listData[mid] == data:\n",
    "            listNol.append(mid)\n",
    "            if listData[mid + 1] == data:\n",
    "                return binarySearch2(listData, data, mid+1, akhir, iterasi+1)\n",
    "            elif listData[mid - 1] == data:\n",
    "                return binarySearch2(listData, data,awal,mid-1, iterasi+1)\n",
    "        else:\n",
    "            if data < listData[mid]:\n",
    "                return binarySearch2(listData, data,awal,mid-1, iterasi+1)\n",
    "            else:\n",
    "                return binarySearch2(listData, data,mid+1,akhir, iterasi+1)\n",
    "a = [1,1,5,5,5,8,9,10,12,26]\n",
    "first = 0\n",
    "last = len(a)-1\n",
    "[hasil,iterasi] = binarySearch2(a,5,first,last,0)\n",
    "print(\"Posisi Data =\",hasil)\n",
    "print(\"Jumlah Iterasi =\",iterasi)"
   ]
  },
  {
   "source": [
    "# Hashing"
   ],
   "cell_type": "markdown",
   "metadata": {}
  },
  {
   "cell_type": "code",
   "execution_count": 12,
   "metadata": {},
   "outputs": [],
   "source": [
    "# Hash Function\n",
    "def remainderFunction(data,num):\n",
    "    return (data % num)\n",
    "# Hash Table\n",
    "def createHashTable(num):\n",
    "    temp = ['none'] * num\n",
    "    return temp\n",
    "# push data ke hash Table\n",
    "def putData(data,table):\n",
    "    for i in range(len(data)):\n",
    "        ind = remainderFunction(data[i],len(table))\n",
    "        table[ind] = data[i]\n",
    "    return table\n",
    "# search nilai\n",
    "def searchHash(data,table):\n",
    "    temp = remainderFunction(data,len(table))\n",
    "    if table[temp] == data:\n",
    "        return True\n",
    "    else:\n",
    "        return False\n"
   ]
  },
  {
   "cell_type": "code",
   "execution_count": 13,
   "metadata": {},
   "outputs": [
    {
     "output_type": "stream",
     "name": "stdout",
     "text": [
      "['none', 'none', 'none', 'none', 'none', 'none', 'none', 'none', 'none', 'none', 'none']\n"
     ]
    }
   ],
   "source": [
    "a = [54,26,93,17,77,31]\n",
    "hashTable = createHashTable(11)\n",
    "print(hashTable)"
   ]
  },
  {
   "cell_type": "code",
   "execution_count": 14,
   "metadata": {},
   "outputs": [
    {
     "output_type": "stream",
     "name": "stdout",
     "text": [
      "[77, 'none', 'none', 'none', 26, 93, 17, 'none', 'none', 31, 54]\n"
     ]
    }
   ],
   "source": [
    "hashTable = putData(a,hashTable)\n",
    "print(hashTable)"
   ]
  },
  {
   "cell_type": "code",
   "execution_count": 15,
   "metadata": {},
   "outputs": [
    {
     "output_type": "execute_result",
     "data": {
      "text/plain": [
       "True"
      ]
     },
     "metadata": {},
     "execution_count": 15
    }
   ],
   "source": [
    "searchHash(93,hashTable)"
   ]
  },
  {
   "cell_type": "code",
   "execution_count": null,
   "metadata": {},
   "outputs": [],
   "source": []
  },
  {
   "source": [
    "## MID SQUERE Function"
   ],
   "cell_type": "markdown",
   "metadata": {}
  },
  {
   "cell_type": "code",
   "execution_count": null,
   "metadata": {},
   "outputs": [],
   "source": [
    "def midSquereFunction(data,num):\n",
    "    "
   ]
  }
 ]
}