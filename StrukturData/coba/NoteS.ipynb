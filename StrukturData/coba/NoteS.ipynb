{
 "metadata": {
  "language_info": {
   "codemirror_mode": {
    "name": "ipython",
    "version": 3
   },
   "file_extension": ".py",
   "mimetype": "text/x-python",
   "name": "python",
   "nbconvert_exporter": "python",
   "pygments_lexer": "ipython3",
   "version": "3.8.5-final"
  },
  "orig_nbformat": 2,
  "kernelspec": {
   "name": "python385jvsc74a57bd0519d50afa4fa2a031914d1277caf40e3c230f5b9c6026f4a34e283f752d24e49",
   "display_name": "Python 3.8.5 64-bit (conda)"
  },
  "metadata": {
   "interpreter": {
    "hash": "f267cf10368a98ae7825624f2dd7ec9bbb250b5c4ca499253af831a3c4532594"
   }
  }
 },
 "nbformat": 4,
 "nbformat_minor": 2,
 "cells": [
  {
   "source": [
    "## Biner To Desimal"
   ],
   "cell_type": "markdown",
   "metadata": {}
  },
  {
   "cell_type": "code",
   "execution_count": null,
   "metadata": {},
   "outputs": [],
   "source": [
    "def binerKeDesimal(biner):\n",
    "    desimal = 0\n",
    "    for i in range(len(biner)):\n",
    "        iDes = int(biner[i]) * (2**((len(biner)-1)-i))\n",
    "        desimal += iDes\n",
    "    return desimal\n",
    "a = binerKeDesimal(\"1010\")\n",
    "print(a)"
   ]
  },
  {
   "source": [
    "## Kunci Gitar"
   ],
   "cell_type": "markdown",
   "metadata": {}
  },
  {
   "cell_type": "code",
   "execution_count": null,
   "metadata": {},
   "outputs": [],
   "source": [
    "def aku(c,b):\n",
    "    a = ['A','A#','B','C','C#','D','D#','E','F','F#','G','G#']\n",
    "    for i in range(len(a)):\n",
    "        if c.upper() == a[i]:\n",
    "            return (a[(i + b) % 12])\n",
    "a = aku('E',18)   \n",
    "print(a)"
   ]
  },
  {
   "source": [
    "## QUEUE"
   ],
   "cell_type": "markdown",
   "metadata": {}
  },
  {
   "cell_type": "code",
   "execution_count": null,
   "metadata": {},
   "outputs": [],
   "source": [
    "def createqueue():\n",
    "    q = []\n",
    "    return q\n",
    "def enQueue(q,data):\n",
    "    q.insert(0,data)\n",
    "    return q\n",
    "def deQueue(q):\n",
    "    data = q.pop()\n",
    "    return data\n",
    "def isEmpty(q):\n",
    "    return (q == [])\n",
    "def size(q):\n",
    "    return (len(q))"
   ]
  },
  {
   "cell_type": "code",
   "execution_count": null,
   "metadata": {},
   "outputs": [],
   "source": [
    "def task(angka):\n",
    "    data = []\n",
    "    for i in range(angka):\n",
    "        a = []\n",
    "        for j in range(1):\n",
    "            x = input(\"Nama Proses ke-{} : \".format(i))\n",
    "            y = int(input(\"Waktu Proses : \"))\n",
    "            a.append(x)\n",
    "            a.append(y)\n",
    "        data.append(a)\n",
    "    return data"
   ]
  },
  {
   "cell_type": "code",
   "execution_count": null,
   "metadata": {},
   "outputs": [],
   "source": [
    "# MAIN PROGRAM\n",
    "num = int(input(\"Jumlah Proses Yang Akan Dijadwal  Di CPU = \"))\n",
    "data = task(num)\n",
    "print(\"Antrian Proses :\\n\", data)"
   ]
  },
  {
   "source": [
    "# 1. Bubble Sort"
   ],
   "cell_type": "markdown",
   "metadata": {}
  },
  {
   "source": [
    "## a. Ascending dari awal"
   ],
   "cell_type": "markdown",
   "metadata": {}
  },
  {
   "cell_type": "code",
   "execution_count": 6,
   "metadata": {},
   "outputs": [
    {
     "output_type": "stream",
     "name": "stdout",
     "text": [
      "Bubble Sort Ascending = [1, 2, 3, 4, 5, 6, 7]\n"
     ]
    }
   ],
   "source": [
    "def Abubble(data):\n",
    "    for i in reversed(range(len(data))):\n",
    "        x = 0\n",
    "        for j in range(i):\n",
    "            if data[j] > data[j+1]:\n",
    "                data[j],data[j+1]=data[j+1],data[j]\n",
    "                x += 1\n",
    "        if x == 0:\n",
    "            break\n",
    "    return data\n",
    "    \n",
    "a = [1,7,3,5,4,6,2]\n",
    "b = Abubble(a)\n",
    "print(\"Bubble Sort Ascending =\",b)"
   ]
  },
  {
   "source": [
    "## b. Descending dari awal"
   ],
   "cell_type": "markdown",
   "metadata": {}
  },
  {
   "cell_type": "code",
   "execution_count": 8,
   "metadata": {},
   "outputs": [
    {
     "output_type": "stream",
     "name": "stdout",
     "text": [
      "Bubble Sort Descending = [7, 6, 5, 4, 3, 2, 1]\n"
     ]
    }
   ],
   "source": [
    "def Dbubble(data):\n",
    "    for i in reversed(range(len(data))):\n",
    "        x = 0\n",
    "        for j in range(i):\n",
    "            if data[j] < data[j+1]:\n",
    "                data[j],data[j+1]=data[j+1],data[j]\n",
    "                x += 1\n",
    "        if x == 0:\n",
    "            break\n",
    "    return data\n",
    "a = [1,7,3,5,4,6,2]\n",
    "b = Dbubble(a)\n",
    "print(\"Bubble Sort Descending =\",b)"
   ]
  },
  {
   "source": [
    "## c. Ascending dari akhir"
   ],
   "cell_type": "markdown",
   "metadata": {}
  },
  {
   "cell_type": "code",
   "execution_count": 11,
   "metadata": {},
   "outputs": [
    {
     "output_type": "stream",
     "name": "stdout",
     "text": [
      "Bubble Sort Ascending = [1, 2, 3, 4, 5, 6, 7]\n"
     ]
    }
   ],
   "source": [
    "def bubbleA(data):\n",
    "    for i in range(len(data)):\n",
    "        x = 0\n",
    "        for j in reversed(range(i+1,len(data))):\n",
    "            if data[j] < data[j-1]:\n",
    "                data[j],data[j-1]=data[j-1],data[j]\n",
    "                x += 1\n",
    "        if x == 0:\n",
    "            break\n",
    "    return data\n",
    "a = [1,7,3,5,4,6,2]\n",
    "b = bubbleA(a)\n",
    "print(\"Bubble Sort Ascending =\",b)\n"
   ]
  },
  {
   "source": [
    "## d. Descending dari akhir"
   ],
   "cell_type": "markdown",
   "metadata": {}
  },
  {
   "cell_type": "code",
   "execution_count": 12,
   "metadata": {},
   "outputs": [
    {
     "output_type": "stream",
     "name": "stdout",
     "text": [
      "Bubble Sort Descending = [7, 6, 5, 4, 3, 2, 1]\n"
     ]
    }
   ],
   "source": [
    "def bubbleD(data):\n",
    "    for i in range(len(data)):\n",
    "        x = 0\n",
    "        for j in reversed(range(i+1,len(data))):\n",
    "            if data[j] > data[j-1]:\n",
    "                data[j],data[j-1]=data[j-1],data[j]\n",
    "                x += 1\n",
    "        if x == 0:\n",
    "            break\n",
    "    return data\n",
    "a = [1,7,3,5,4,6,2]\n",
    "b = bubbleD(a)\n",
    "print(\"Bubble Sort Descending =\",b)\n"
   ]
  },
  {
   "source": [
    "## e. Ascending dari kanan - kiri"
   ],
   "cell_type": "markdown",
   "metadata": {}
  },
  {
   "cell_type": "code",
   "execution_count": 13,
   "metadata": {},
   "outputs": [
    {
     "output_type": "stream",
     "name": "stdout",
     "text": [
      "Bubble Sort Ascending = [1, 2, 3, 4, 5, 6, 7]\n"
     ]
    }
   ],
   "source": [
    "def BAbubble(data):\n",
    "    n = len(data)\n",
    "    for i in range(len(data)//2):\n",
    "        temp = 0\n",
    "        for x in range(i,n-1):\n",
    "            if data[x] > data[x+1]:\n",
    "                data[x],data[x+1]=data[x+1],data[x]\n",
    "                temp += 1\n",
    "        if temp == 0:\n",
    "            break\n",
    "        else:\n",
    "            for y in reversed(range(i+1,n-1)):\n",
    "                if data[y] < data[y-1]:\n",
    "                    data[y],data[y-1]=data[y-1],data[y]\n",
    "        n -= 1\n",
    "    return data\n",
    "a = [1,7,3,5,4,6,2]\n",
    "b = BAbubble(a)\n",
    "print(\"Bubble Sort Ascending =\",b)"
   ]
  },
  {
   "source": [
    "## f. Descending dari kanan - kiri"
   ],
   "cell_type": "markdown",
   "metadata": {}
  },
  {
   "cell_type": "code",
   "execution_count": 32,
   "metadata": {},
   "outputs": [
    {
     "output_type": "stream",
     "name": "stdout",
     "text": [
      "Bubble Sort Descending = [7, 6, 5, 4, 3, 2, 1]\n"
     ]
    }
   ],
   "source": [
    "def BDbubble(data):\n",
    "    n = len(data)\n",
    "    for i in range(len(data)//2):\n",
    "        temp = 0\n",
    "        for x in range(i,n-1):\n",
    "            if data[x] < data[x+1]:\n",
    "                data[x],data[x+1]=data[x+1],data[x]\n",
    "                temp += 1\n",
    "        if temp == 0:\n",
    "            break\n",
    "        else:\n",
    "            for y in reversed(range(i+1,n-1)):\n",
    "                if data[y] > data[y-1]:\n",
    "                    data[y],data[y-1]=data[y-1],data[y]\n",
    "        n -= 1\n",
    "    return data\n",
    "a = [1,7,3,5,4,6,2]\n",
    "b = BDbubble(a)\n",
    "print(\"Bubble Sort Descending =\",b)"
   ]
  },
  {
   "source": [
    "## g. Ascending dari kiri - kanan"
   ],
   "cell_type": "markdown",
   "metadata": {}
  },
  {
   "cell_type": "code",
   "execution_count": 33,
   "metadata": {},
   "outputs": [
    {
     "output_type": "stream",
     "name": "stdout",
     "text": [
      "Bubble Sort Ascending = [0, 1, 1, 2, 2, 3, 3, 4, 4, 5, 5]\n"
     ]
    }
   ],
   "source": [
    "def bubbleBA(data):\n",
    "    n = len(data)\n",
    "    for i in range(len(data)):\n",
    "        x = 0\n",
    "        for j in reversed(range(i+1,n)):\n",
    "            if data[j] < data[j-1]:\n",
    "                data[j],data[j-1]=data[j-1],data[j]\n",
    "                x += 1\n",
    "        if x == 0:\n",
    "            break\n",
    "        else:\n",
    "            for y in range(i+1,n-1):\n",
    "                if data[y] > data[y+1]:\n",
    "                    data[y],data[y+1]=data[y+1],data[y]\n",
    "        n -= 1\n",
    "    return data\n",
    "a = [5,4,3,2,1,1,2,3,4,5,0]\n",
    "b = bubbleBA(a)\n",
    "print(\"Bubble Sort Ascending =\",b)\n"
   ]
  },
  {
   "source": [
    "## h. Descending dari kiri - kanan"
   ],
   "cell_type": "markdown",
   "metadata": {}
  },
  {
   "cell_type": "code",
   "execution_count": 50,
   "metadata": {},
   "outputs": [
    {
     "output_type": "stream",
     "name": "stdout",
     "text": [
      "Bubble Sort Descending = [6, 5, 5, 4, 4, 3, 3, 2, 2, 1, 1]\n"
     ]
    }
   ],
   "source": [
    "def bubbleBD(data):\n",
    "    n = len(data)\n",
    "    for i in range(len(data)):\n",
    "        x = 0\n",
    "        for j in reversed(range(i+1,n)):\n",
    "            if data[j] > data[j-1]:\n",
    "                data[j],data[j-1]=data[j-1],data[j]\n",
    "                x += 1\n",
    "        if x == 0:\n",
    "            break\n",
    "        else:\n",
    "            for y in range(i+1,n-1):\n",
    "                if data[y] < data[y+1]:\n",
    "                    data[y],data[y+1]=data[y+1],data[y]\n",
    "        n -= 1\n",
    "    return data\n",
    "a = [5,4,3,6,2,1,1,2,3,4,5]\n",
    "b = bubbleBD(a)\n",
    "print(\"Bubble Sort Descending =\",b)"
   ]
  },
  {
   "cell_type": "code",
   "execution_count": null,
   "metadata": {},
   "outputs": [],
   "source": []
  },
  {
   "source": [
    "# 2. Insertion Sort"
   ],
   "cell_type": "markdown",
   "metadata": {}
  },
  {
   "source": [
    "## a. Ascending Dari Awal"
   ],
   "cell_type": "markdown",
   "metadata": {}
  },
  {
   "cell_type": "code",
   "execution_count": 55,
   "metadata": {},
   "outputs": [
    {
     "output_type": "stream",
     "name": "stdout",
     "text": [
      "Insertion Sort Ascending = [1, 2, 3, 4, 5, 6, 7]\n"
     ]
    }
   ],
   "source": [
    "def Ainsertion(data):\n",
    "    for i in range(1,len(data)):\n",
    "        key = data[i]\n",
    "        ind = i\n",
    "        while (ind > 0 and data[ind-1] > key):\n",
    "            data[ind] = data[ind-1]\n",
    "            ind -= 1\n",
    "        data[ind] = key\n",
    "    return data\n",
    "a = [1,7,3,5,4,6,2]\n",
    "b = Ainsertion(a)\n",
    "print(\"Insertion Sort Ascending =\",b)"
   ]
  },
  {
   "source": [
    "## b. Descending Dari Awal"
   ],
   "cell_type": "markdown",
   "metadata": {}
  },
  {
   "cell_type": "code",
   "execution_count": null,
   "metadata": {},
   "outputs": [],
   "source": []
  }
 ]
}