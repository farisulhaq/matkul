{
 "metadata": {
  "language_info": {
   "codemirror_mode": {
    "name": "ipython",
    "version": 3
   },
   "file_extension": ".py",
   "mimetype": "text/x-python",
   "name": "python",
   "nbconvert_exporter": "python",
   "pygments_lexer": "ipython3",
   "version": "3.8.5-final"
  },
  "orig_nbformat": 2,
  "kernelspec": {
   "name": "python385jvsc74a57bd0519d50afa4fa2a031914d1277caf40e3c230f5b9c6026f4a34e283f752d24e49",
   "display_name": "Python 3.8.5 64-bit (conda)"
  },
  "metadata": {
   "interpreter": {
    "hash": "f267cf10368a98ae7825624f2dd7ec9bbb250b5c4ca499253af831a3c4532594"
   }
  }
 },
 "nbformat": 4,
 "nbformat_minor": 2,
 "cells": [
  {
   "cell_type": "code",
   "execution_count": 34,
   "metadata": {},
   "outputs": [
    {
     "output_type": "stream",
     "name": "stdout",
     "text": [
      "Data = [13, 12, 10, 8, 7, 5, 11, 2]\nGenap-Ganjil Sorting\n[12, 13, 8, 10, 5, 7, 2, 11]\nGanjil-Genap Sorting\n[12, 8, 13, 5, 10, 2, 7, 11]\nGenap-Ganjil Sorting\n[8, 12, 5, 13, 2, 10, 7, 11]\nGanjil-Genap Sorting\n[8, 5, 12, 2, 13, 7, 10, 11]\nGenap-Ganjil Sorting\n[5, 8, 2, 12, 7, 13, 10, 11]\nGanjil-Genap Sorting\n[5, 2, 8, 7, 12, 10, 13, 11]\nGenap-Ganjil Sorting\n[2, 5, 7, 8, 10, 12, 11, 13]\nGanjil-Genap Sorting\n[2, 5, 7, 8, 10, 11, 12, 13]\nData Urut = [2, 5, 7, 8, 10, 11, 12, 13]\n"
     ]
    }
   ],
   "source": [
    "def genapGanjil(data):\n",
    "    if len(data) % 2 == 0:\n",
    "        n = len(data)\n",
    "    else:\n",
    "        n = len(data) + 1\n",
    "    print(\"Data =\",data)\n",
    "    for i in range(n//2):\n",
    "        for j in range(0,len(data)-1,2):\n",
    "            if data[j] > data[j+1]:\n",
    "                data[j],data[j+1]=data[j+1],data[j]\n",
    "        print(\"Genap-Ganjil Sorting\\n{}\".format(data))\n",
    "        for y in range(1,len(data)-1,2):\n",
    "            if data[y] > data[y+1]:\n",
    "                data[y],data[y+1]=data[y+1],data[y]\n",
    "        print(\"Ganjil-Genap Sorting\\n{}\".format(data))\n",
    "    return data\n",
    "a = [13,12,10,8,7,5,11,2]\n",
    "b = genapGanjil(a)\n",
    "print(\"Data Urut =\",b)\n",
    "\n"
   ]
  },
  {
   "cell_type": "code",
   "execution_count": 21,
   "metadata": {},
   "outputs": [
    {
     "output_type": "stream",
     "name": "stdout",
     "text": [
      "Iterasi ke- 1\nurutan data minimal : [1, 2, 5, 8, 10, 20, 7, 12, 4]\nurutan data maksimal : [1, 2, 5, 8, 10, 4, 7, 12, 20]\nIterasi ke- 2\nurutan data minimal : [1, 2, 5, 8, 10, 4, 7, 12, 20]\nurutan data maksimal : [1, 2, 5, 8, 10, 4, 7, 12, 20]\nIterasi ke- 3\nurutan data minimal : [1, 2, 4, 8, 10, 5, 7, 12, 20]\nurutan data maksimal : [1, 2, 4, 8, 7, 5, 10, 12, 20]\nIterasi ke- 4\nurutan data minimal : [1, 2, 4, 5, 7, 8, 10, 12, 20]\nurutan data maksimal : [1, 2, 4, 5, 7, 8, 10, 12, 20]\nData urut = [1, 2, 4, 5, 7, 8, 10, 12, 20]\n"
     ]
    }
   ],
   "source": [
    "def selectionSort(data):\n",
    "    n = len(data)\n",
    "    for i in range(len(data)//2):\n",
    "        print(\"Iterasi ke-\",i+1)\n",
    "        ind = i\n",
    "        for j in range(i+1,n):\n",
    "            if data[ind] > data[j]:\n",
    "                ind = j\n",
    "        data[i],data[ind]=data[ind],data[i]\n",
    "        print(\"urutan data minimal :\",data)\n",
    "        ind = n - 1\n",
    "        for y in reversed(range(n-1)):\n",
    "            if data[ind] < data[y]:\n",
    "                ind = y\n",
    "        data[n-1],data[ind]=data[ind],data[n-1]\n",
    "        print(\"urutan data maksimal :\",data)\n",
    "        n -= 1\n",
    "    return data\n",
    "         \n",
    "a = [10,2,5,8,1,20,7,12,4]\n",
    "b = selectionSort(a)\n",
    "print(\"Data urut =\",b)"
   ]
  },
  {
   "cell_type": "code",
   "execution_count": 56,
   "metadata": {},
   "outputs": [
    {
     "output_type": "execute_result",
     "data": {
      "text/plain": [
       "False"
      ]
     },
     "metadata": {},
     "execution_count": 56
    }
   ],
   "source": [
    "def prima(angka):\n",
    "    if angka <= 1:\n",
    "        return False\n",
    "    else:\n",
    "        for i in range(2,angka):\n",
    "            if angka % i == 0:\n",
    "                return False\n",
    "        return True\n",
    "prima(1)"
   ]
  },
  {
   "cell_type": "code",
   "execution_count": 65,
   "metadata": {},
   "outputs": [
    {
     "output_type": "stream",
     "name": "stdout",
     "text": [
      "[2, 3, 4, 5, 6, 8, 9, 10, 12, 14, 15]\n10\n"
     ]
    }
   ],
   "source": [
    "a = list(map(int,input().split()))\n",
    "b = list(map(int,input().split()))\n",
    "for i in range(2,a[1]+2):\n",
    "    if not(prima(i)):\n",
    "        b.append(i)\n",
    "b.sort()\n",
    "print(b)\n",
    "print(b.index(a[1])+1)\n",
    "\n",
    "\n"
   ]
  },
  {
   "cell_type": "code",
   "execution_count": 47,
   "metadata": {},
   "outputs": [
    {
     "output_type": "stream",
     "name": "stdout",
     "text": [
      "YA\n"
     ]
    }
   ],
   "source": [
    "a = \"Halo Dunia!\".lower()\n",
    "b = \"halo dunia!\"\n",
    "if a in b:\n",
    "    print(\"YA\")\n",
    "else:\n",
    "    print(\"TIDAK\")"
   ]
  },
  {
   "source": [
    "## Biner To Desimal"
   ],
   "cell_type": "markdown",
   "metadata": {}
  },
  {
   "cell_type": "code",
   "execution_count": 1,
   "metadata": {},
   "outputs": [
    {
     "output_type": "stream",
     "name": "stdout",
     "text": [
      "10\n"
     ]
    }
   ],
   "source": [
    "def binerKeDesimal(biner):\n",
    "    desimal = 0\n",
    "    for i in range(len(biner)):\n",
    "        iDes = int(biner[i]) * (2**((len(biner)-1)-i))\n",
    "        desimal += iDes\n",
    "    return desimal\n",
    "a = binerKeDesimal(\"1010\")\n",
    "print(a)"
   ]
  },
  {
   "source": [
    "## Kunci Gitar"
   ],
   "cell_type": "markdown",
   "metadata": {}
  },
  {
   "cell_type": "code",
   "execution_count": null,
   "metadata": {},
   "outputs": [],
   "source": [
    "def aku(c,b):\n",
    "    a = ['A','A#','B','C','C#','D','D#','E','F','F#','G','G#']\n",
    "    for i in range(len(a)):\n",
    "        if c.upper() == a[i]:\n",
    "            return (a[(i + b) % 12])\n",
    "a = aku('E',18)   \n",
    "print(a)"
   ]
  },
  {
   "source": [
    "## QUEUE"
   ],
   "cell_type": "markdown",
   "metadata": {}
  },
  {
   "cell_type": "code",
   "execution_count": null,
   "metadata": {},
   "outputs": [],
   "source": [
    "def createqueue():\n",
    "    q = []\n",
    "    return q\n",
    "def enQueue(q,data):\n",
    "    q.insert(0,data)\n",
    "    return q\n",
    "def deQueue(q):\n",
    "    data = q.pop()\n",
    "    return data\n",
    "def isEmpty(q):\n",
    "    return (q == [])\n",
    "def size(q):\n",
    "    return (len(q))"
   ]
  },
  {
   "cell_type": "code",
   "execution_count": null,
   "metadata": {},
   "outputs": [],
   "source": [
    "def task(angka):\n",
    "    data = []\n",
    "    for i in range(angka):\n",
    "        a = []\n",
    "        for j in range(1):\n",
    "            x = input(\"Nama Proses ke-{} : \".format(i))\n",
    "            y = int(input(\"Waktu Proses : \"))\n",
    "            a.append(x)\n",
    "            a.append(y)\n",
    "        data.append(a)\n",
    "    return data"
   ]
  },
  {
   "cell_type": "code",
   "execution_count": null,
   "metadata": {},
   "outputs": [],
   "source": [
    "# MAIN PROGRAM\n",
    "num = int(input(\"Jumlah Proses Yang Akan Dijadwal  Di CPU = \"))\n",
    "data = task(num)\n",
    "print(\"Antrian Proses :\\n\", data)"
   ]
  },
  {
   "source": [
    "# DEQUE"
   ],
   "cell_type": "markdown",
   "metadata": {}
  },
  {
   "cell_type": "code",
   "execution_count": 18,
   "metadata": {},
   "outputs": [],
   "source": [
    "def createDeque():\n",
    "    d = []\n",
    "    return d\n",
    "def addFront(d,data):\n",
    "    d.insert(0,data)\n",
    "    return d\n",
    "def addRear(d,data):\n",
    "    d.append(data)\n",
    "    return d\n",
    "def removeFront(d):\n",
    "    data = d.pop(0)\n",
    "    return data\n",
    "def removeRear(d):\n",
    "    data = d.pop()\n",
    "    return data\n",
    "def isEmpty(d):\n",
    "    return d == []\n",
    "def size(d):\n",
    "    return len(d)"
   ]
  },
  {
   "cell_type": "code",
   "execution_count": 19,
   "metadata": {},
   "outputs": [
    {
     "output_type": "stream",
     "name": "stdout",
     "text": [
      "True\nFalse\nTrue\nTrue\nTrue\nFalse\n"
     ]
    }
   ],
   "source": [
    "def cekPalindrom(data):\n",
    "    d = createDeque()\n",
    "    for i in data:\n",
    "        addRear(d,i)\n",
    "    while size(d) > 1:\n",
    "        a = removeFront(d)\n",
    "        b = removeRear(d)\n",
    "        if a != b:\n",
    "            return False\n",
    "    return True\n",
    "print(cekPalindrom('hannah'))\n",
    "print(cekPalindrom('surabaya'))\n",
    "print(cekPalindrom('abcdcba'))\n",
    "print(cekPalindrom('katak'))\n",
    "print(cekPalindrom('taat'))\n",
    "print(cekPalindrom('dia'))"
   ]
  },
  {
   "source": [
    "# 1. Bubble Sort"
   ],
   "cell_type": "markdown",
   "metadata": {}
  },
  {
   "source": [
    "## a. Ascending dari awal"
   ],
   "cell_type": "markdown",
   "metadata": {}
  },
  {
   "cell_type": "code",
   "execution_count": 6,
   "metadata": {},
   "outputs": [
    {
     "output_type": "stream",
     "name": "stdout",
     "text": [
      "Bubble Sort Ascending = [1, 2, 3, 4, 5, 6, 7]\n"
     ]
    }
   ],
   "source": [
    "def Abubble(data):\n",
    "    for i in reversed(range(len(data))):\n",
    "        x = 0\n",
    "        for j in range(i):\n",
    "            if data[j] > data[j+1]:\n",
    "                data[j],data[j+1]=data[j+1],data[j]\n",
    "                x += 1\n",
    "        if x == 0:\n",
    "            break\n",
    "    return data\n",
    "    \n",
    "a = [1,7,3,5,4,6,2]\n",
    "b = Abubble(a)\n",
    "print(\"Bubble Sort Ascending =\",b)"
   ]
  },
  {
   "source": [
    "## b. Descending dari awal"
   ],
   "cell_type": "markdown",
   "metadata": {}
  },
  {
   "cell_type": "code",
   "execution_count": 8,
   "metadata": {},
   "outputs": [
    {
     "output_type": "stream",
     "name": "stdout",
     "text": [
      "Bubble Sort Descending = [7, 6, 5, 4, 3, 2, 1]\n"
     ]
    }
   ],
   "source": [
    "def Dbubble(data):\n",
    "    for i in reversed(range(len(data))):\n",
    "        x = 0\n",
    "        for j in range(i):\n",
    "            if data[j] < data[j+1]:\n",
    "                data[j],data[j+1]=data[j+1],data[j]\n",
    "                x += 1\n",
    "        if x == 0:\n",
    "            break\n",
    "    return data\n",
    "a = [1,7,3,5,4,6,2]\n",
    "b = Dbubble(a)\n",
    "print(\"Bubble Sort Descending =\",b)"
   ]
  },
  {
   "source": [
    "## c. Ascending dari akhir"
   ],
   "cell_type": "markdown",
   "metadata": {}
  },
  {
   "cell_type": "code",
   "execution_count": 11,
   "metadata": {},
   "outputs": [
    {
     "output_type": "stream",
     "name": "stdout",
     "text": [
      "Bubble Sort Ascending = [1, 2, 3, 4, 5, 6, 7]\n"
     ]
    }
   ],
   "source": [
    "def bubbleA(data):\n",
    "    for i in range(len(data)):\n",
    "        x = 0\n",
    "        for j in reversed(range(i+1,len(data))):\n",
    "            if data[j] < data[j-1]:\n",
    "                data[j],data[j-1]=data[j-1],data[j]\n",
    "                x += 1\n",
    "        if x == 0:\n",
    "            break\n",
    "    return data\n",
    "a = [1,7,3,5,4,6,2]\n",
    "b = bubbleA(a)\n",
    "print(\"Bubble Sort Ascending =\",b)\n"
   ]
  },
  {
   "source": [
    "## d. Descending dari akhir"
   ],
   "cell_type": "markdown",
   "metadata": {}
  },
  {
   "cell_type": "code",
   "execution_count": 12,
   "metadata": {},
   "outputs": [
    {
     "output_type": "stream",
     "name": "stdout",
     "text": [
      "Bubble Sort Descending = [7, 6, 5, 4, 3, 2, 1]\n"
     ]
    }
   ],
   "source": [
    "def bubbleD(data):\n",
    "    for i in range(len(data)):\n",
    "        x = 0\n",
    "        for j in reversed(range(i+1,len(data))):\n",
    "            if data[j] > data[j-1]:\n",
    "                data[j],data[j-1]=data[j-1],data[j]\n",
    "                x += 1\n",
    "        if x == 0:\n",
    "            break\n",
    "    return data\n",
    "a = [1,7,3,5,4,6,2]\n",
    "b = bubbleD(a)\n",
    "print(\"Bubble Sort Descending =\",b)\n"
   ]
  },
  {
   "source": [
    "## e. Ascending dari kanan - kiri"
   ],
   "cell_type": "markdown",
   "metadata": {}
  },
  {
   "cell_type": "code",
   "execution_count": 13,
   "metadata": {},
   "outputs": [
    {
     "output_type": "stream",
     "name": "stdout",
     "text": [
      "Bubble Sort Ascending = [1, 2, 3, 4, 5, 6, 7]\n"
     ]
    }
   ],
   "source": [
    "def BAbubble(data):\n",
    "    n = len(data)\n",
    "    for i in range(len(data)//2):\n",
    "        temp = 0\n",
    "        for x in range(i,n-1):\n",
    "            if data[x] > data[x+1]:\n",
    "                data[x],data[x+1]=data[x+1],data[x]\n",
    "                temp += 1\n",
    "        if temp == 0:\n",
    "            break\n",
    "        else:\n",
    "            for y in reversed(range(i+1,n-1)):\n",
    "                if data[y] < data[y-1]:\n",
    "                    data[y],data[y-1]=data[y-1],data[y]\n",
    "        n -= 1\n",
    "    return data\n",
    "a = [1,7,3,5,4,6,2]\n",
    "b = BAbubble(a)\n",
    "print(\"Bubble Sort Ascending =\",b)"
   ]
  },
  {
   "source": [
    "## f. Descending dari kanan - kiri"
   ],
   "cell_type": "markdown",
   "metadata": {}
  },
  {
   "cell_type": "code",
   "execution_count": 32,
   "metadata": {},
   "outputs": [
    {
     "output_type": "stream",
     "name": "stdout",
     "text": [
      "Bubble Sort Descending = [7, 6, 5, 4, 3, 2, 1]\n"
     ]
    }
   ],
   "source": [
    "def BDbubble(data):\n",
    "    n = len(data)\n",
    "    for i in range(len(data)//2):\n",
    "        temp = 0\n",
    "        for x in range(i,n-1):\n",
    "            if data[x] < data[x+1]:\n",
    "                data[x],data[x+1]=data[x+1],data[x]\n",
    "                temp += 1\n",
    "        if temp == 0:\n",
    "            break\n",
    "        else:\n",
    "            for y in reversed(range(i+1,n-1)):\n",
    "                if data[y] > data[y-1]:\n",
    "                    data[y],data[y-1]=data[y-1],data[y]\n",
    "        n -= 1\n",
    "    return data\n",
    "a = [1,7,3,5,4,6,2]\n",
    "b = BDbubble(a)\n",
    "print(\"Bubble Sort Descending =\",b)"
   ]
  },
  {
   "source": [
    "## g. Ascending dari kiri - kanan"
   ],
   "cell_type": "markdown",
   "metadata": {}
  },
  {
   "cell_type": "code",
   "execution_count": 33,
   "metadata": {},
   "outputs": [
    {
     "output_type": "stream",
     "name": "stdout",
     "text": [
      "Bubble Sort Ascending = [0, 1, 1, 2, 2, 3, 3, 4, 4, 5, 5]\n"
     ]
    }
   ],
   "source": [
    "def bubbleBA(data):\n",
    "    n = len(data)\n",
    "    for i in range(len(data)):\n",
    "        x = 0\n",
    "        for j in reversed(range(i+1,n)):\n",
    "            if data[j] < data[j-1]:\n",
    "                data[j],data[j-1]=data[j-1],data[j]\n",
    "                x += 1\n",
    "        if x == 0:\n",
    "            break\n",
    "        else:\n",
    "            for y in range(i+1,n-1):\n",
    "                if data[y] > data[y+1]:\n",
    "                    data[y],data[y+1]=data[y+1],data[y]\n",
    "        n -= 1\n",
    "    return data\n",
    "a = [5,4,3,2,1,1,2,3,4,5,0]\n",
    "b = bubbleBA(a)\n",
    "print(\"Bubble Sort Ascending =\",b)\n"
   ]
  },
  {
   "source": [
    "## h. Descending dari kiri - kanan"
   ],
   "cell_type": "markdown",
   "metadata": {}
  },
  {
   "cell_type": "code",
   "execution_count": 50,
   "metadata": {},
   "outputs": [
    {
     "output_type": "stream",
     "name": "stdout",
     "text": [
      "Bubble Sort Descending = [6, 5, 5, 4, 4, 3, 3, 2, 2, 1, 1]\n"
     ]
    }
   ],
   "source": [
    "def bubbleBD(data):\n",
    "    n = len(data)\n",
    "    for i in range(len(data)):\n",
    "        x = 0\n",
    "        for j in reversed(range(i+1,n)):\n",
    "            if data[j] > data[j-1]:\n",
    "                data[j],data[j-1]=data[j-1],data[j]\n",
    "                x += 1\n",
    "        if x == 0:\n",
    "            break\n",
    "        else:\n",
    "            for y in range(i+1,n-1):\n",
    "                if data[y] < data[y+1]:\n",
    "                    data[y],data[y+1]=data[y+1],data[y]\n",
    "        n -= 1\n",
    "    return data\n",
    "a = [5,4,3,6,2,1,1,2,3,4,5]\n",
    "b = bubbleBD(a)\n",
    "print(\"Bubble Sort Descending =\",b)"
   ]
  },
  {
   "source": [
    "# 2. Insertion Sort"
   ],
   "cell_type": "markdown",
   "metadata": {}
  },
  {
   "source": [
    "## a. Ascending Dari Awal"
   ],
   "cell_type": "markdown",
   "metadata": {}
  },
  {
   "cell_type": "code",
   "execution_count": 55,
   "metadata": {},
   "outputs": [
    {
     "output_type": "stream",
     "name": "stdout",
     "text": [
      "Insertion Sort Ascending = [1, 2, 3, 4, 5, 6, 7]\n"
     ]
    }
   ],
   "source": [
    "def Ainsertion(data):\n",
    "    for i in range(1,len(data)):\n",
    "        key = data[i]\n",
    "        ind = i\n",
    "        while (ind > 0 and data[ind-1] > key):\n",
    "            data[ind] = data[ind-1]\n",
    "            ind -= 1\n",
    "        data[ind] = key\n",
    "    return data\n",
    "a = [1,7,3,5,4,6,2]\n",
    "b = Ainsertion(a)\n",
    "print(\"Insertion Sort Ascending =\",b)"
   ]
  },
  {
   "source": [
    "## b. Descending Dari Awal"
   ],
   "cell_type": "markdown",
   "metadata": {}
  },
  {
   "cell_type": "code",
   "execution_count": 8,
   "metadata": {},
   "outputs": [
    {
     "output_type": "stream",
     "name": "stdout",
     "text": [
      "Insertion Sort Descending = [7, 6, 5, 4, 2, 1, 0]\n"
     ]
    }
   ],
   "source": [
    "def Dinsertion(data):\n",
    "    for i in range(1,len(data)):\n",
    "        key = data[i]\n",
    "        ind = i\n",
    "        while (ind > 0 and data[ind-1] < key):\n",
    "            data[ind] = data[ind-1]\n",
    "            ind -= 1\n",
    "        data[ind] = key\n",
    "    return data\n",
    "a = [1,7,0,5,4,6,2]\n",
    "b = Dinsertion(a)\n",
    "print(\"Insertion Sort Descending =\",b)"
   ]
  },
  {
   "source": [
    "## c. Ascending Dari Akhir"
   ],
   "cell_type": "markdown",
   "metadata": {}
  },
  {
   "cell_type": "code",
   "execution_count": 4,
   "metadata": {},
   "outputs": [
    {
     "output_type": "stream",
     "name": "stdout",
     "text": [
      "data [10, 1, 7, 3, 5, 4, 6, 2]\n[10, 1, 7, 3, 5, 4, 2, 6]\n[10, 1, 7, 3, 5, 2, 4, 6]\n[10, 1, 7, 3, 2, 4, 5, 6]\n[10, 1, 7, 2, 3, 4, 5, 6]\n[10, 1, 2, 3, 4, 5, 6, 7]\n[10, 1, 2, 3, 4, 5, 6, 7]\n[1, 2, 3, 4, 5, 6, 7, 10]\nInsertion Sort Ascending = [1, 2, 3, 4, 5, 6, 7, 10]\n"
     ]
    }
   ],
   "source": [
    "def insertionA(data):\n",
    "    for i in reversed(range(len(data)-1)):\n",
    "        key = data[i]\n",
    "        ind = i\n",
    "        while ((ind < len(data)-1) and (data[ind+1] < key)):\n",
    "            data[ind] = data[ind+1]\n",
    "            ind += 1\n",
    "        data[ind] = key\n",
    "        print(data)\n",
    "    return data\n",
    "a = [10,1,7,3,5,4,6,2]\n",
    "print(\"data\",a)\n",
    "b = insertionA(a)\n",
    "print(\"Insertion Sort Ascending =\",b)"
   ]
  },
  {
   "source": [
    "## d. Descending Dari Akhir"
   ],
   "cell_type": "markdown",
   "metadata": {}
  },
  {
   "cell_type": "code",
   "execution_count": 55,
   "metadata": {},
   "outputs": [
    {
     "output_type": "stream",
     "name": "stdout",
     "text": [
      "Insertion Sort Ascending = [7, 6, 5, 4, 3, 2, 1]\n"
     ]
    }
   ],
   "source": [
    "def insertionD(data):\n",
    "    for i in reversed(range(len(data)-1)):\n",
    "        key = data[i]\n",
    "        ind = i\n",
    "        while ((ind < len(data)-1) and (data[ind+1] > key)):\n",
    "            data[ind] = data[ind+1]\n",
    "            ind += 1\n",
    "        data[ind] = key\n",
    "    return data\n",
    "a = [1,7,3,5,4,6,2]\n",
    "b = insertionD(a)\n",
    "print(\"Insertion Sort Ascending =\",b)"
   ]
  },
  {
   "source": [
    "# 3. Selection Sort"
   ],
   "cell_type": "markdown",
   "metadata": {}
  },
  {
   "source": [
    "## a. Ascending dari Awal"
   ],
   "cell_type": "markdown",
   "metadata": {}
  },
  {
   "cell_type": "code",
   "execution_count": 3,
   "metadata": {},
   "outputs": [
    {
     "output_type": "stream",
     "name": "stdout",
     "text": [
      "Selection Sort Acending = [1, 2, 3, 9, 10]\n"
     ]
    }
   ],
   "source": [
    "def Aselection(data):\n",
    "    for i in range(len(a)-1):\n",
    "        ind = i\n",
    "        for j in range(i+1,len(data)):\n",
    "            if data[ind] > data[j]:\n",
    "                ind = j\n",
    "        data[i],data[ind]=data[ind],data[i]\n",
    "    return data  \n",
    "a = [10,3,9,1,2]\n",
    "b = Aselection(a)\n",
    "print(\"Selection Sort Acending =\",b)"
   ]
  },
  {
   "source": [
    "## b. Descending Dari Awal"
   ],
   "cell_type": "markdown",
   "metadata": {}
  },
  {
   "cell_type": "code",
   "execution_count": 6,
   "metadata": {},
   "outputs": [
    {
     "output_type": "stream",
     "name": "stdout",
     "text": [
      "Selection Sort Descending = [10, 9, 3, 2, 1, 0]\n"
     ]
    }
   ],
   "source": [
    "def Dselection(data):\n",
    "    for i in range(len(a)-1):\n",
    "        ind = i\n",
    "        for j in range(i+1,len(data)):\n",
    "            if data[ind] < data[j]:\n",
    "                ind = j\n",
    "        data[i],data[ind]=data[ind],data[i]\n",
    "    return data  \n",
    "a = [0,10,3,9,1,2]\n",
    "b = Dselection(a)\n",
    "print(\"Selection Sort Descending =\",b)"
   ]
  },
  {
   "source": [
    "## c. Ascending Dari Akhir"
   ],
   "cell_type": "markdown",
   "metadata": {}
  },
  {
   "cell_type": "code",
   "execution_count": 7,
   "metadata": {},
   "outputs": [
    {
     "output_type": "stream",
     "name": "stdout",
     "text": [
      "Selection Sort Acending = [1, 2, 3, 9, 10]\n"
     ]
    }
   ],
   "source": [
    "def selectionA(data):\n",
    "    for i in reversed(range(1,len(a))):\n",
    "        ind = i\n",
    "        for j in reversed(range(i)):\n",
    "            if data[ind] < data[j]:\n",
    "                ind = j\n",
    "        data[i],data[ind]=data[ind],data[i]\n",
    "    return data\n",
    "a = [10,3,9,1,2]\n",
    "b = selectionA(a)\n",
    "print(\"Selection Sort Acending =\",b)\n"
   ]
  },
  {
   "source": [
    "## d. Descending Dari Akhir"
   ],
   "cell_type": "markdown",
   "metadata": {}
  },
  {
   "cell_type": "code",
   "execution_count": 22,
   "metadata": {},
   "outputs": [
    {
     "output_type": "stream",
     "name": "stdout",
     "text": [
      "Selection Sort Descending = [10, 9, 3, 2, 1]\n"
     ]
    }
   ],
   "source": [
    "def selectionD(data):\n",
    "    for i in reversed(range(1,len(data))):\n",
    "        ind = i\n",
    "        for j in reversed(range(i)):\n",
    "            if data[ind] > data[j]:\n",
    "                ind = j\n",
    "        data[i],data[ind]=data[ind],data[i]\n",
    "    return data\n",
    "a = [10,3,9,1,2]\n",
    "b = selectionD(a)\n",
    "print(\"Selection Sort Descending =\",b)"
   ]
  },
  {
   "source": [
    "## e. Ascending Otak 2 jalan (max,min)"
   ],
   "cell_type": "markdown",
   "metadata": {}
  },
  {
   "cell_type": "code",
   "execution_count": 54,
   "metadata": {},
   "outputs": [
    {
     "output_type": "stream",
     "name": "stdout",
     "text": [
      "max [2, 3, 9, 1, 10]\nmin [1, 3, 9, 2, 10]\nmax [1, 3, 2, 9, 10]\nmin [1, 2, 3, 9, 10]\nSelection Sort Ascending = [1, 2, 3, 9, 10]\n"
     ]
    }
   ],
   "source": [
    "def DMselectionAM(data):\n",
    "    n = len(data)\n",
    "    for i in range(len(data)//2):\n",
    "        ind = n - 1\n",
    "        for j in reversed(range(i,n-1)):\n",
    "            if data[ind] < data[j]:\n",
    "                ind = j\n",
    "        data[n-1],data[ind]=data[ind],data[n-1]\n",
    "        print(\"max\",data)\n",
    "        ind = i\n",
    "        for y in range(i+1,n-1):\n",
    "            if data[ind] > data[y]:\n",
    "                ind = y\n",
    "        data[i],data[ind]=data[ind],data[i]\n",
    "        print(\"min\",data)\n",
    "        n -= 1\n",
    "    return data\n",
    "\n",
    "a = [10,3,9,1,2]\n",
    "b = DMselectionAM(a)\n",
    "print(\"Selection Sort Ascending =\",b)"
   ]
  },
  {
   "source": [
    "## f. Ascending Otak 2 jalan (min,max)"
   ],
   "cell_type": "markdown",
   "metadata": {}
  },
  {
   "cell_type": "code",
   "execution_count": 63,
   "metadata": {},
   "outputs": [
    {
     "output_type": "stream",
     "name": "stdout",
     "text": [
      "iterasi 1\nmin [1, 3, 9, 10, 2]\nmax [1, 3, 9, 2, 10]\niterasi 2\nmin [1, 2, 9, 3, 10]\nmax [1, 2, 3, 9, 10]\nSelection Sort Ascending = [1, 2, 3, 9, 10]\n"
     ]
    }
   ],
   "source": [
    "def AMselectionDM(data):\n",
    "    n = len(data)\n",
    "    for i in range(len(data)//2):\n",
    "        print(\"iterasi\",i+1)\n",
    "        ind = i\n",
    "        for j in range(i+1,n):\n",
    "            if data[ind] > data[j]:\n",
    "                ind = j\n",
    "        data[i],data[ind]=data[ind],data[i]\n",
    "        print(\"min\",data)\n",
    "        ind = n - 1\n",
    "        for y in reversed(range(i+1,n-1)):\n",
    "            if data[ind] < data[y]:\n",
    "                ind = y\n",
    "        data[n-1],data[ind]=data[ind],data[n-1]\n",
    "        print(\"max\",data)\n",
    "        n -= 1\n",
    "    return data\n",
    "a = [10,3,9,1,2]\n",
    "b = AMselectionDM(a)\n",
    "print(\"Selection Sort Ascending =\",b)\n"
   ]
  },
  {
   "cell_type": "code",
   "execution_count": 64,
   "metadata": {},
   "outputs": [
    {
     "output_type": "stream",
     "name": "stdout",
     "text": [
      "iterasi 1\nmin [1, 12, 3, 4, 5, 99, 12, 30, 45, 6, 7, 2, 3, 4, 5, 100]\nmax [1, 12, 3, 4, 5, 99, 12, 30, 45, 6, 7, 2, 3, 4, 5, 100]\niterasi 2\nmin [1, 2, 3, 4, 5, 99, 12, 30, 45, 6, 7, 12, 3, 4, 5, 100]\nmax [1, 2, 3, 4, 5, 5, 12, 30, 45, 6, 7, 12, 3, 4, 99, 100]\niterasi 3\nmin [1, 2, 3, 4, 5, 5, 12, 30, 45, 6, 7, 12, 3, 4, 99, 100]\nmax [1, 2, 3, 4, 5, 5, 12, 30, 4, 6, 7, 12, 3, 45, 99, 100]\niterasi 4\nmin [1, 2, 3, 3, 5, 5, 12, 30, 4, 6, 7, 12, 4, 45, 99, 100]\nmax [1, 2, 3, 3, 5, 5, 12, 4, 4, 6, 7, 12, 30, 45, 99, 100]\niterasi 5\nmin [1, 2, 3, 3, 4, 5, 12, 5, 4, 6, 7, 12, 30, 45, 99, 100]\nmax [1, 2, 3, 3, 4, 5, 12, 5, 4, 6, 7, 12, 30, 45, 99, 100]\niterasi 6\nmin [1, 2, 3, 3, 4, 4, 12, 5, 5, 6, 7, 12, 30, 45, 99, 100]\nmax [1, 2, 3, 3, 4, 4, 7, 5, 5, 6, 12, 12, 30, 45, 99, 100]\niterasi 7\nmin [1, 2, 3, 3, 4, 4, 5, 7, 5, 6, 12, 12, 30, 45, 99, 100]\nmax [1, 2, 3, 3, 4, 4, 5, 6, 5, 7, 12, 12, 30, 45, 99, 100]\niterasi 8\nmin [1, 2, 3, 3, 4, 4, 5, 5, 6, 7, 12, 12, 30, 45, 99, 100]\nmax [1, 2, 3, 3, 4, 4, 5, 5, 6, 7, 12, 12, 30, 45, 99, 100]\nSelection Sort Ascending = [1, 2, 3, 3, 4, 4, 5, 5, 6, 7, 12, 12, 30, 45, 99, 100]\n"
     ]
    }
   ],
   "source": [
    "a = [100,12,3,4,5,99,12,30,45,6,7,2,3,4,5,1]\n",
    "b = AMselectionDM(a)\n",
    "print(\"Selection Sort Ascending =\",b)"
   ]
  },
  {
   "cell_type": "code",
   "execution_count": 72,
   "metadata": {},
   "outputs": [
    {
     "output_type": "stream",
     "name": "stdout",
     "text": [
      "3\n2\n1\n0\n3\n2\n1\n0\n"
     ]
    }
   ],
   "source": [
    "a = [1,2,3,4,5]\n",
    "for i in range(len(a)-2,-1,-1):\n",
    "    print(i)\n",
    "for i in reversed(range(len(a)-1)):\n",
    "    print(i)"
   ]
  }
 ]
}