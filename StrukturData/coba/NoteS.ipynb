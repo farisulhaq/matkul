{
 "metadata": {
  "language_info": {
   "codemirror_mode": {
    "name": "ipython",
    "version": 3
   },
   "file_extension": ".py",
   "mimetype": "text/x-python",
   "name": "python",
   "nbconvert_exporter": "python",
   "pygments_lexer": "ipython3",
   "version": "3.8.5-final"
  },
  "orig_nbformat": 2,
  "kernelspec": {
   "name": "python385jvsc74a57bd0519d50afa4fa2a031914d1277caf40e3c230f5b9c6026f4a34e283f752d24e49",
   "display_name": "Python 3.8.5 64-bit (conda)"
  }
 },
 "nbformat": 4,
 "nbformat_minor": 2,
 "cells": [
  {
   "source": [
    "## Biner To Desimal"
   ],
   "cell_type": "markdown",
   "metadata": {}
  },
  {
   "cell_type": "code",
   "execution_count": null,
   "metadata": {},
   "outputs": [],
   "source": [
    "def binerKeDesimal(biner):\n",
    "    desimal = 0\n",
    "    for i in range(len(biner)):\n",
    "        iDes = int(biner[i]) * (2**((len(biner)-1)-i))\n",
    "        desimal += iDes\n",
    "    return desimal\n",
    "a = binerKeDesimal(\"1010\")\n",
    "print(a)"
   ]
  },
  {
   "source": [
    "## Kunci Gitar"
   ],
   "cell_type": "markdown",
   "metadata": {}
  },
  {
   "cell_type": "code",
   "execution_count": null,
   "metadata": {},
   "outputs": [],
   "source": [
    "def aku(c,b):\n",
    "    a = ['A','A#','B','C','C#','D','D#','E','F','F#','G','G#']\n",
    "    for i in range(len(a)):\n",
    "        if c.upper() == a[i]:\n",
    "            return (a[(i + b) % 12])\n",
    "a = aku('E',18)   \n",
    "print(a)"
   ]
  },
  {
   "source": [
    "## Bubble Sort"
   ],
   "cell_type": "markdown",
   "metadata": {}
  },
  {
   "cell_type": "code",
   "execution_count": 37,
   "metadata": {},
   "outputs": [
    {
     "output_type": "stream",
     "name": "stdout",
     "text": [
      "perulangan 5\n[4, 5, 3, 1, 2, 0] 0\n[4, 3, 5, 1, 2, 0] 1\n[4, 3, 1, 5, 2, 0] 2\n[4, 3, 1, 2, 5, 0] 3\n[4, 3, 1, 2, 0, 5] 4\nperulangan 4\n[3, 4, 1, 2, 0, 5] 1\n[3, 1, 4, 2, 0, 5] 2\n[3, 1, 2, 4, 0, 5] 3\n[3, 1, 2, 0, 4, 5] 4\nperulangan 3\n[1, 3, 2, 0, 4, 5] 1\n[1, 2, 3, 0, 4, 5] 2\n[1, 2, 0, 3, 4, 5] 3\nperulangan 2\n[1, 2, 0, 3, 4, 5] 0\n[1, 0, 2, 3, 4, 5] 1\nperulangan 1\n[0, 1, 2, 3, 4, 5] 1\nperulangan 0\n"
     ]
    }
   ],
   "source": [
    "def buble(a):\n",
    "    temp=a.copy()\n",
    "    for i in reversed(range(len(temp))):\n",
    "        print(\"perulangan\",i)\n",
    "        x = 0\n",
    "        for j in range(i):\n",
    "            if temp[j] > temp[j+1]:\n",
    "                temp[j],temp[j+1]=temp[j+1],temp[j]\n",
    "                x += 1\n",
    "            print(temp,x)\n",
    "        if x == 0:\n",
    "            break\n",
    "a = [4,5,3,1,2,0]\n",
    "buble(a)"
   ]
  },
  {
   "cell_type": "code",
   "execution_count": null,
   "metadata": {},
   "outputs": [],
   "source": [
    "b = len(a)\n",
    "for i in range(1,len(a)):\n",
    "    for j in range(0,b-i):\n",
    "        if a[j] > a[j+1]:\n",
    "            a[j],a[j+1]=a[j+1],a[j]\n",
    "        print(a,\"1\",j)\n",
    "    \n",
    "    for j in reversed(range(b-i-1)):\n",
    "        if a[j] < a[j-1]:\n",
    "            a[j],a[j-1]=a[j-1],a[j]\n",
    "        print(a,\"2\")\n",
    "    b -= 1"
   ]
  },
  {
   "cell_type": "code",
   "execution_count": 35,
   "metadata": {},
   "outputs": [
    {
     "output_type": "stream",
     "name": "stdout",
     "text": [
      "1\n[4, 5, 3, 1, 0] 0\n[4, 3, 5, 1, 0] 1\n[4, 3, 1, 5, 0] 2\n[4, 3, 1, 0, 5] 3\n2\n[3, 4, 1, 0, 5] 1\n[3, 1, 4, 0, 5] 2\n[3, 1, 0, 4, 5] 3\n3\n[1, 3, 0, 4, 5] 1\n[1, 0, 3, 4, 5] 2\n"
     ]
    }
   ],
   "source": [
    "def bubble(data):\n",
    "    x = len(data)\n",
    "    i = 0\n",
    "    while i <= x:\n",
    "        i += 1\n",
    "        print(i)\n",
    "        temp = 0\n",
    "        for j in range(x-1):\n",
    "            if a[j] > a[j+1]:\n",
    "                data[j],data[j+1]=data[j+1],data[j]\n",
    "                temp += 1\n",
    "            print(data,temp)\n",
    "        if temp == 0:\n",
    "            x = 0\n",
    "        x -= 1\n",
    "a = [4,5,3,1,0]\n",
    "bubble(a)"
   ]
  },
  {
   "source": [
    "## QUEUE"
   ],
   "cell_type": "markdown",
   "metadata": {}
  },
  {
   "cell_type": "code",
   "execution_count": null,
   "metadata": {},
   "outputs": [],
   "source": [
    "def createqueue():\n",
    "    q = []\n",
    "    return q\n",
    "def enQueue(q,data):\n",
    "    q.insert(0,data)\n",
    "    return q\n",
    "def deQueue(q):\n",
    "    data = q.pop()\n",
    "    return data\n",
    "def isEmpty(q):\n",
    "    return (q == [])\n",
    "def size(q):\n",
    "    return (len(q))"
   ]
  },
  {
   "cell_type": "code",
   "execution_count": 6,
   "metadata": {},
   "outputs": [],
   "source": [
    "def task(angka):\n",
    "    data = []\n",
    "    for i in range(angka):\n",
    "        a = []\n",
    "        for j in range(1):\n",
    "            x = input(\"Nama Proses ke-{} : \".format(i))\n",
    "            y = int(input(\"Waktu Proses : \"))\n",
    "            a.append(x)\n",
    "            a.append(y)\n",
    "        data.append(a)\n",
    "    return data"
   ]
  },
  {
   "cell_type": "code",
   "execution_count": 7,
   "metadata": {},
   "outputs": [
    {
     "output_type": "stream",
     "name": "stdout",
     "text": [
      "[['A', 4], ['B', 3], ['C', 1]]\n"
     ]
    }
   ],
   "source": [
    "# MAIN PROGRAM\n",
    "num = int(input(\"Jumlah Proses Yang Akan Dijadwal  Di CPU = \"))\n",
    "data = task(num)\n",
    "print(\"Antrian Proses :\\n\", data)"
   ]
  },
  {
   "cell_type": "code",
   "execution_count": 6,
   "metadata": {},
   "outputs": [
    {
     "output_type": "stream",
     "name": "stdout",
     "text": [
      "perulangan 1\n[1, 2, 3, 4, 5]\n[1, 2, 3, 4, 5]\n[1, 2, 3, 4, 5]\n[1, 2, 3, 4, 5]\n"
     ]
    }
   ],
   "source": [
    "data = [1,2,3,4,5]\n",
    "n = len(data)\n",
    "for i in range(len(data)//2):\n",
    "    print(\"perulangan\",i+1)\n",
    "    temp = 0\n",
    "    for x in range(i,n-1):\n",
    "        if data[x] > data[x+1]:\n",
    "            data[x],data[x+1]=data[x+1],data[x]\n",
    "            temp += 1\n",
    "        print(data)\n",
    "    if temp == 0:\n",
    "        break\n",
    "    else:\n",
    "        print(\"Putar Balik\")\n",
    "        for y in reversed(range(i+1,n-1)):\n",
    "            if data[y] < data[y-1]:\n",
    "                data[y],data[y-1]=data[y-1],data[y]\n",
    "            print(data)\n",
    "    n -= 1"
   ]
  },
  {
   "cell_type": "code",
   "execution_count": 8,
   "metadata": {},
   "outputs": [
    {
     "output_type": "stream",
     "name": "stdout",
     "text": [
      "1\n2\n3\n"
     ]
    }
   ],
   "source": [
    "for i in range(1,4):\n",
    "    print(i)\n"
   ]
  },
  {
   "cell_type": "code",
   "execution_count": 17,
   "metadata": {},
   "outputs": [
    {
     "output_type": "stream",
     "name": "stdout",
     "text": [
      "3\n"
     ]
    }
   ],
   "source": [
    "print(6//2)"
   ]
  }
 ]
}