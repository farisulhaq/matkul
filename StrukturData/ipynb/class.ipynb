{
 "metadata": {
  "language_info": {
   "codemirror_mode": {
    "name": "ipython",
    "version": 3
   },
   "file_extension": ".py",
   "mimetype": "text/x-python",
   "name": "python",
   "nbconvert_exporter": "python",
   "pygments_lexer": "ipython3",
   "version": "3.8.5"
  },
  "orig_nbformat": 2,
  "kernelspec": {
   "name": "python3",
   "display_name": "Python 3.8.5 64-bit ('base': conda)"
  },
  "interpreter": {
   "hash": "519d50afa4fa2a031914d1277caf40e3c230f5b9c6026f4a34e283f752d24e49"
  }
 },
 "nbformat": 4,
 "nbformat_minor": 2,
 "cells": [
  {
   "cell_type": "code",
   "execution_count": 4,
   "metadata": {},
   "outputs": [],
   "source": [
    "class node:\n",
    "    def __init__(self,item):\n",
    "        self.name = item\n",
    "        self.next = None\n",
    "    def getData(self):\n",
    "        return self.name\n",
    "    def getNext(self):\n",
    "        return self.next\n",
    "    def setData(self, newdata):\n",
    "        self.name = newdata\n",
    "    def setNext(self, new):\n",
    "        self.next = new"
   ]
  },
  {
   "cell_type": "code",
   "execution_count": 2,
   "metadata": {},
   "outputs": [],
   "source": [
    "class linked:\n",
    "    def __init__(self):\n",
    "        self.head = None\n",
    "    def add(self, data):\n",
    "        temp = node(data)\n",
    "        temp.setNext(self.head)\n",
    "        self.head = temp\n",
    "    def add_l(self, data):\n",
    "        if self.head is None:\n",
    "            self.add(data)\n",
    "            return\n",
    "        current = self.head\n",
    "        while current.next is not None:\n",
    "            current = current.getNext()\n",
    "        current.setNext(node(data))\n",
    "    def add_index(self, index, data):\n",
    "        if index == 0:\n",
    "            self.add(data)\n",
    "            return\n",
    "        count = 0\n",
    "        current = self.head\n",
    "        while current:\n",
    "            if count == index - 1:\n",
    "                temp = node(data)\n",
    "                temp.setNext(current.getNext())\n",
    "                current.setNext(temp)\n",
    "                break\n",
    "            current = current.getNext()\n",
    "            count += 1\n",
    "    def insertNext(self, item, data):\n",
    "        current = self.head\n",
    "        while current != None:\n",
    "            if current.getData() == item:\n",
    "                break\n",
    "            current = current.getNext()\n",
    "        if current is None:\n",
    "            print(\"item tidak ada\")\n",
    "            return\n",
    "        temp = node(data)\n",
    "        temp.setNext(current.getNext())\n",
    "        current.setNext(temp)\n",
    "    def insertPrevious(self, item, data):\n",
    "        if self.head.name == item:\n",
    "            self.add(data)\n",
    "            return\n",
    "        current = self.head\n",
    "        while current.getNext():\n",
    "            if current.getNext().name == item:\n",
    "                break\n",
    "            current = current.getNext()\n",
    "        if current.getNext() is None:\n",
    "            print(\"item tidak ada\")\n",
    "            return\n",
    "        temp = node(data)\n",
    "        temp.setNext(current.getNext())\n",
    "        current.setNext(temp)\n",
    "    def remove(self, item):\n",
    "        current = self.head\n",
    "        found = False\n",
    "        prev = None\n",
    "        while not found:\n",
    "            if current.getData() == item:\n",
    "                found = True\n",
    "            else:\n",
    "                prev = current\n",
    "                current = current.getNext()\n",
    "        if prev == None:\n",
    "            self.head = current.getNext()\n",
    "        else:        \n",
    "            prev.setNext(current.getNext())\n",
    "    def display(self):\n",
    "        a = self.head\n",
    "        while a != None:\n",
    "            print(a.getData(),\"--> \", end=\"\")\n",
    "            a = a.getNext()"
   ]
  },
  {
   "cell_type": "code",
   "execution_count": 6,
   "metadata": {
    "tags": []
   },
   "outputs": [
    {
     "output_type": "stream",
     "name": "stdout",
     "text": [
      "3 --> 2 --> 1 --> "
     ]
    }
   ],
   "source": [
    "my = linked()\n",
    "my.add(1)\n",
    "my.add(2)\n",
    "my.add(3)\n",
    "my.display()"
   ]
  },
  {
   "cell_type": "code",
   "execution_count": 42,
   "metadata": {},
   "outputs": [
    {
     "output_type": "stream",
     "name": "stdout",
     "text": [
      "Nilupul\n   |--Faris\n      |--akbar\n         |--febi\n         |--fina\n      |--rama\n   |--Suud\n      |--rama\n      |--viena\n"
     ]
    }
   ],
   "source": [
    "class tree:\n",
    "    def __init__(self,name):\n",
    "        self.name = name\n",
    "        self.children = []\n",
    "        self.parent = None\n",
    "    def add_child(self,data):\n",
    "        data.parent = self\n",
    "        self.children.append(data)\n",
    "    def print_tree(self):\n",
    "        space = (\" \" * self.level() * 3)\n",
    "        space = space + \"|--\" if self.parent else \"\"\n",
    "        print(space + self.name)\n",
    "        for child in self.children:\n",
    "            child.print_tree()\n",
    "    def level(self):\n",
    "        level = 0\n",
    "        p = self.parent\n",
    "        # print(p)\n",
    "        while p:\n",
    "            level += 1\n",
    "            p = p.parent\n",
    "        return level\n",
    "\n",
    "\n",
    "def main():\n",
    "    root = tree(\"Nilupul\")\n",
    "    # 1\n",
    "    cto1 = tree(\"Faris\")\n",
    "    head = tree(\"akbar\")\n",
    "    head.add_child(tree(\"febi\"))\n",
    "    head.add_child(tree(\"fina\"))\n",
    "\n",
    "    head2 = tree(\"rama\")\n",
    "\n",
    "    cto1.add_child(head)\n",
    "    cto1.add_child(head2)\n",
    "    root.add_child(cto1)\n",
    "\n",
    "    # 2\n",
    "    cto2 = tree(\"Suud\")\n",
    "    cto2.add_child(tree(\"rama\"))\n",
    "    cto2.add_child(tree(\"viena\"))\n",
    "\n",
    "    root.add_child(cto2)\n",
    "\n",
    "\n",
    "\n",
    "    return root\n",
    "\n",
    "if __name__ == \"__main__\":\n",
    "    root = main()\n",
    "    root.print_tree()\n",
    "\n"
   ]
  },
  {
   "cell_type": "code",
   "execution_count": 103,
   "metadata": {},
   "outputs": [
    {
     "output_type": "stream",
     "name": "stdout",
     "text": [
      "slot - 0: None \nslot - 1: 1 \nslot - 2: 2 \nslot - 3: 23 13 63 \nslot - 4: None \nslot - 5: 15 5 \nslot - 6: None \nslot - 7: 27 7 \nslot - 8: None \nslot - 9: 29 \n\n"
     ]
    }
   ],
   "source": [
    "class HashTable:\n",
    "    def __init__(self, num):\n",
    "        self.ht = [[None]]*num\n",
    "    def remainder(self,data):\n",
    "        return data % len(self.ht)\n",
    "    def putData(self, data):\n",
    "        for i in range(len(data)):\n",
    "            slot = self.remainder(data[i])\n",
    "            if self.ht[slot] == [None]:\n",
    "                self.ht[slot] = [data[i]]\n",
    "            else:\n",
    "                self.ht[slot].append(data[i])\n",
    "        return self.ht\n",
    "    def search(self,data):\n",
    "        slot = self.remainder(data)\n",
    "        temp = self.ht[slot]\n",
    "        ind = 0\n",
    "        for i in range(len(temp)):\n",
    "            if temp[i] == data:\n",
    "                print(f'slot-{slot}: Node-{ind}')\n",
    "            elif ind == len(temp)-1:\n",
    "                print(f'slot-{slot}: data tidak ada')\n",
    "            else:\n",
    "                ind += 1\n",
    "        return ''\n",
    "\n",
    "    def __str__(self):\n",
    "        for i in range(len(self.ht)):\n",
    "            print(f'slot - {i}:', end=\" \")\n",
    "            for j in range(len(self.ht[i])):\n",
    "                print(self.ht[i][j], end=\" \")\n",
    "            print()\n",
    "        return ''\n",
    "\n",
    "a = HashTable(10)\n",
    "data = [15,23,27,13,7,29,2,1,63,5]\n",
    "a.putData(data)\n",
    "print(a)"
   ]
  },
  {
   "cell_type": "code",
   "execution_count": 104,
   "metadata": {},
   "outputs": [
    {
     "output_type": "stream",
     "name": "stdout",
     "text": [
      "slot-0: data tidak ada\n\nslot-3: Node-0\n\nslot-7: Node-1\n\nslot-3: Node-2\n\nslot-0: data tidak ada\n\n"
     ]
    }
   ],
   "source": [
    "print(a.search(20))\n",
    "print(a.search(23))\n",
    "print(a.search(7))\n",
    "print(a.search(63))\n",
    "print(a.search(50))"
   ]
  }
 ]
}