{
 "metadata": {
  "language_info": {
   "codemirror_mode": {
    "name": "ipython",
    "version": 3
   },
   "file_extension": ".py",
   "mimetype": "text/x-python",
   "name": "python",
   "nbconvert_exporter": "python",
   "pygments_lexer": "ipython3",
   "version": "3.8.5-final"
  },
  "orig_nbformat": 2,
  "kernelspec": {
   "name": "python385jvsc74a57bd0519d50afa4fa2a031914d1277caf40e3c230f5b9c6026f4a34e283f752d24e49",
   "display_name": "Python 3.8.5 64-bit (conda)"
  },
  "metadata": {
   "interpreter": {
    "hash": "f267cf10368a98ae7825624f2dd7ec9bbb250b5c4ca499253af831a3c4532594"
   }
  }
 },
 "nbformat": 4,
 "nbformat_minor": 2,
 "cells": [
  {
   "cell_type": "code",
   "execution_count": 48,
   "metadata": {},
   "outputs": [
    {
     "output_type": "stream",
     "name": "stdout",
     "text": [
      "data = [15, 12, 6, 7, 9, 19, 78, 10, 0, 1]\ngenap-ganjil [12, 15, 6, 7, 9, 19, 10, 78, 0, 1]\nganjil-genap [12, 6, 15, 7, 9, 10, 19, 0, 78, 1]\ngenap-ganjil [6, 12, 7, 15, 9, 10, 0, 19, 1, 78]\nganjil-genap [6, 7, 12, 9, 15, 0, 10, 1, 19, 78]\ngenap-ganjil [6, 7, 9, 12, 0, 15, 1, 10, 19, 78]\nganjil-genap [6, 7, 9, 0, 12, 1, 15, 10, 19, 78]\ngenap-ganjil [6, 7, 0, 9, 1, 12, 10, 15, 19, 78]\nganjil-genap [6, 0, 7, 1, 9, 10, 12, 15, 19, 78]\ngenap-ganjil [0, 6, 1, 7, 9, 10, 12, 15, 19, 78]\nganjil-genap [0, 1, 6, 7, 9, 10, 12, 15, 19, 78]\nurut = [0, 1, 6, 7, 9, 10, 12, 15, 19, 78]\n"
     ]
    }
   ],
   "source": [
    "def GenapGanjil(data):\n",
    "    ind = len(data) + 1\n",
    "    print(\"data =\",data)\n",
    "    for i in range(//2):\n",
    "        for j in range(0,len(data)-1,2):\n",
    "            if data[j] > data[j+1]:\n",
    "                data[j],data[j+1]=data[j+1],data[j]\n",
    "        print(\"genap-ganjil\",data)\n",
    "        for y in range(1,len(data)-1,2):\n",
    "            if data[y] > data[y+1]:\n",
    "                data[y],data[y+1]=data[y+1],data[y]\n",
    "        print(\"ganjil-genap\",data)\n",
    "    return data\n",
    "data = [15,12,6,7,9,19,78,10,0,1]\n",
    "cek = GenapGanjil(data)\n",
    "print(\"urut =\",cek)"
   ]
  },
  {
   "cell_type": "code",
   "execution_count": null,
   "metadata": {},
   "outputs": [],
   "source": [
    "a = [1,3,2,4]"
   ]
  }
 ]
}