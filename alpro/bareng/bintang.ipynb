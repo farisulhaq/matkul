{
 "metadata": {
  "language_info": {
   "codemirror_mode": {
    "name": "ipython",
    "version": 3
   },
   "file_extension": ".py",
   "mimetype": "text/x-python",
   "name": "python",
   "nbconvert_exporter": "python",
   "pygments_lexer": "ipython3",
   "version": "3.8.3-final"
  },
  "orig_nbformat": 2,
  "kernelspec": {
   "name": "python3",
   "display_name": "Python 3.8.3 32-bit (conda)",
   "metadata": {
    "interpreter": {
     "hash": "519d50afa4fa2a031914d1277caf40e3c230f5b9c6026f4a34e283f752d24e49"
    }
   }
  }
 },
 "nbformat": 4,
 "nbformat_minor": 2,
 "cells": [
  {
   "cell_type": "code",
   "execution_count": null,
   "metadata": {},
   "outputs": [],
   "source": [
    "import numpy as np\n",
    "a = np.array([1,2,3,4,5])\n",
    "b = [1,2,3,4,5]\n",
    "print(a)\n",
    "print(b)\n"
   ]
  },
  {
   "cell_type": "code",
   "execution_count": null,
   "metadata": {},
   "outputs": [],
   "source": [
    "from numpy import *\n",
    "a = array([1,2,3,4,5])\n",
    "b = [1,2,3,4,5]\n",
    "print(a)\n",
    "print(b)"
   ]
  },
  {
   "cell_type": "code",
   "execution_count": null,
   "metadata": {},
   "outputs": [],
   "source": []
  },
  {
   "cell_type": "code",
   "execution_count": null,
   "metadata": {},
   "outputs": [],
   "source": [
    "from tkinter import messagebox\n",
    "\n",
    "# --- fungsi membuat matriks --- #\n",
    "def createSparseMatrix():\n",
    "    matx = {}\n",
    "    row = int(input('jumlah baris = '))\n",
    "    col = int(input('Jumlah kolom = '))\n",
    "    elm = int(input('Jumlah elemen = '))\n",
    "    while len(matx) < elm:\n",
    "        stop = False\n",
    "        baris = int(input('Baris ke- ?'))\n",
    "        if baris < row:\n",
    "            while not(stop):\n",
    "                kolom = int(input('Kolom ke- ?'))\n",
    "                if kolom >= col:\n",
    "                    messagebox.showerror('SAYANG FEBI','Indeks Kolom Maksimum = {}'.format(col))\n",
    "                else:\n",
    "                    data = int(input(f'data ({baris},{kolom}) = '))\n",
    "                    matx[baris,kolom] = data\n",
    "                    stop = True\n",
    "        else:\n",
    "           messagebox.showerror('SAYANG FEBI','Indeks Baris Maksimum = {}'.format(row)) \n",
    "    return matx,row,col\n",
    "# --- fungsi Penjumlahan matriks --- #\n",
    "def addSparceMatrix(matx1,matx2,row,col):\n",
    "    juml = {}\n",
    "    for x in range(row):\n",
    "        for y in range(col):\n",
    "            data = matx1.get((x,y),0)+matx2.get((x,y),0)\n",
    "            juml[x,y] = data\n",
    "    return juml\n",
    "# --- fungsi display --- #\n",
    "def displayData(matx,row,col):\n",
    "    for x in range(row):\n",
    "        print('|',end='')\n",
    "        for y in range(col):\n",
    "            # --- cv ke string --- #\n",
    "            data = str(matx.get((x,y),0))\n",
    "            print(' '*(4-len(data))+data, end='')\n",
    "        print('   |')\n",
    "    print('-----------------------')\n",
    "# --- Main --- #\n",
    "(matrik1,row1,col1) = createSparseMatrix()\n",
    "print('Matriks 1 = ',matrik1)\n",
    "print('-----------------------')\n",
    "(matrik2,row2,col2) = createSparseMatrix()\n",
    "print('Matriks 1 = ',matrik2)\n",
    "print('-----------------------')\n",
    "# --- Add Matrices --- #\n",
    "if row1 == row2 and col1 == col2:\n",
    "    matrixSum = addSparceMatrix(matrik1,matrik2,row1,col1)\n",
    "    displayData(matrik1,row1,col1)\n",
    "    displayData(matrik2,row2,col2)\n",
    "    displayData(matrixSum,row1,col1)\n",
    "else:\n",
    "    messagebox.showerror('Eror','Ukuran Matriks Tidak Sama')"
   ]
  },
  {
   "cell_type": "code",
   "execution_count": null,
   "metadata": {},
   "outputs": [],
   "source": [
    "a = 'saya'\n",
    "a.lower()\n",
    "print(a)"
   ]
  },
  {
   "cell_type": "code",
   "execution_count": null,
   "metadata": {},
   "outputs": [],
   "source": []
  },
  {
   "cell_type": "code",
   "execution_count": null,
   "metadata": {},
   "outputs": [],
   "source": []
  }
 ]
}