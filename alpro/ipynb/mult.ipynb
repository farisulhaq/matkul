{
 "metadata": {
  "language_info": {
   "codemirror_mode": {
    "name": "ipython",
    "version": 3
   },
   "file_extension": ".py",
   "mimetype": "text/x-python",
   "name": "python",
   "nbconvert_exporter": "python",
   "pygments_lexer": "ipython3",
   "version": "3.8.3-final"
  },
  "orig_nbformat": 2,
  "kernelspec": {
   "name": "python3",
   "display_name": "Python 3",
   "language": "python"
  }
 },
 "nbformat": 4,
 "nbformat_minor": 2,
 "cells": [
  {
   "cell_type": "code",
   "execution_count": 3,
   "metadata": {},
   "outputs": [],
   "source": [
    "def display(a):\n",
    "    for i in range(len(a)):\n",
    "        print('|',end='')\n",
    "        for j in range(len(a[0])):\n",
    "            data = a[i][j]\n",
    "            print('%4d'%data,end='')\n",
    "        print('%4s'%'|')"
   ]
  },
  {
   "cell_type": "code",
   "execution_count": 4,
   "metadata": {},
   "outputs": [],
   "source": [
    "def kuntul(a):\n",
    "    hsl = []\n",
    "    row = 0\n",
    "    while row < len(a):\n",
    "        col = 0\n",
    "        isi = []\n",
    "        while col < len(a[0]):\n",
    "            mak = 0\n",
    "            for x in range(2):\n",
    "                for y in range(2):\n",
    "                    if a[x+row][y+col] > mak:\n",
    "                        mak = a[x+row][y+col]\n",
    "            isi.append(mak)\n",
    "            col += 2\n",
    "        hsl.append(isi)\n",
    "        row += 2\n",
    "    return hsl\n"
   ]
  },
  {
   "cell_type": "code",
   "execution_count": 5,
   "metadata": {},
   "outputs": [],
   "source": [
    "def kuntu(a):\n",
    "    scn = [[1,0],[0,1]]\n",
    "    hsl = []\n",
    "    row = 0\n",
    "    while row <= len(a)-len(scn):\n",
    "        col = 0\n",
    "        isi = []\n",
    "        while col <= len(a[0])-len(scn[0]):\n",
    "            data = 0\n",
    "            for x in range(len(scn)):\n",
    "                for y in range(len(scn[0])):\n",
    "                    data += a[x+row][y+col] * scn[x][y]\n",
    "            isi.append(data)\n",
    "            col += 1\n",
    "        hsl.append(isi)\n",
    "        row += 1\n",
    "    return hsl\n",
    "\n"
   ]
  },
  {
   "cell_type": "code",
   "execution_count": 6,
   "metadata": {},
   "outputs": [
    {
     "output_type": "stream",
     "name": "stdout",
     "text": [
      "|   1   6   3   4   |\n|   2   3   4   5   |\n|   3   4   5   6   |\n|   4   5   6   7   |\n\n|   6   5   |\n|   5   7   |\n\n|   4  10   8   |\n|   6   8  10   |\n|   8  10  12   |\n"
     ]
    }
   ],
   "source": [
    "a = [\n",
    "    [1,6,3,4],\n",
    "    [2,3,4,5],\n",
    "    [3,4,5,6],\n",
    "    [4,5,6,7]\n",
    "]\n",
    "display(a)\n",
    "print()\n",
    "display(kuntul(a))\n",
    "print()\n",
    "display(kuntu(a))"
   ]
  },
  {
   "cell_type": "code",
   "execution_count": 12,
   "metadata": {},
   "outputs": [],
   "source": [
    "def maks(a):\n",
    "    hsl = []\n",
    "    for row in range(0,len(a),2):\n",
    "        isi = []\n",
    "        for col in range(0,len(a[0]),2):\n",
    "            mak = 0\n",
    "            for x in range(2):\n",
    "                for y in range(2):\n",
    "                    if a[x+row][y+col] > mak:\n",
    "                        mak = a[x+row][y+col]\n",
    "            isi.append(mak)\n",
    "        hsl.append(isi)\n",
    "    return hsl"
   ]
  },
  {
   "cell_type": "code",
   "execution_count": 10,
   "metadata": {},
   "outputs": [],
   "source": [
    "def mult(matx):\n",
    "    scn = [[1,0],[0,1]]\n",
    "    a = len(matx)-len(scn)\n",
    "    b = len(matx[0])-len(scn[0])\n",
    "    hsl = []\n",
    "    for row in range(a+1):\n",
    "        isi = []\n",
    "        for col in range(b+1):\n",
    "            data = 0\n",
    "            for x in range(len(scn)):\n",
    "                for y in range(len(scn[0])):\n",
    "                    data += matx[x+row][y+col] * scn[x][y]\n",
    "            isi.append(data)\n",
    "        hsl.append(isi)\n",
    "    return hsl"
   ]
  },
  {
   "cell_type": "code",
   "execution_count": 11,
   "metadata": {},
   "outputs": [
    {
     "output_type": "stream",
     "name": "stdout",
     "text": [
      "|   1   6   3   4   |\n|   2   3   4   5   |\n|   3   4   5   6   |\n|   4   5   6   7   |\n\n|   4  10   8   |\n|   6   8  10   |\n|   8  10  12   |\n\n|   4  10   8   |\n|   6   8  10   |\n|   8  10  12   |\n"
     ]
    }
   ],
   "source": [
    "a = [\n",
    "    [1,6,3,4],\n",
    "    [2,3,4,5],\n",
    "    [3,4,5,6],\n",
    "    [4,5,6,7]\n",
    "]\n",
    "display(a)\n",
    "print()\n",
    "display(kuntu(a))\n",
    "print()\n",
    "display(mult(a))"
   ]
  },
  {
   "cell_type": "code",
   "execution_count": 13,
   "metadata": {},
   "outputs": [
    {
     "output_type": "stream",
     "name": "stdout",
     "text": [
      "|   1   6   3   4   |\n|   2   3   4   5   |\n|   3   4   5   6   |\n|   4   5   6   7   |\n\n|   6   5   |\n|   5   7   |\n\n|   6   5   |\n|   5   7   |\n"
     ]
    }
   ],
   "source": [
    "a = [\n",
    "    [1,6,3,4],\n",
    "    [2,3,4,5],\n",
    "    [3,4,5,6],\n",
    "    [4,5,6,7]\n",
    "]\n",
    "display(a)\n",
    "print()\n",
    "display(kuntul(a))\n",
    "print()\n",
    "display(maks(a))"
   ]
  },
  {
   "cell_type": "code",
   "execution_count": null,
   "metadata": {},
   "outputs": [],
   "source": []
  }
 ]
}