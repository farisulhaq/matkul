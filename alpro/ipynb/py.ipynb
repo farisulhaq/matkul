{
 "metadata": {
  "language_info": {
   "codemirror_mode": {
    "name": "ipython",
    "version": 3
   },
   "file_extension": ".py",
   "mimetype": "text/x-python",
   "name": "python",
   "nbconvert_exporter": "python",
   "pygments_lexer": "ipython3",
   "version": "3.8.3-final"
  },
  "orig_nbformat": 2,
  "kernelspec": {
   "name": "python3",
   "display_name": "Python 3",
   "language": "python"
  }
 },
 "nbformat": 4,
 "nbformat_minor": 2,
 "cells": [
  {
   "cell_type": "code",
   "execution_count": 6,
   "metadata": {},
   "outputs": [],
   "source": [
    "data = open(\"hello.txt\",\"a\")\n",
    "temp = \"Hello World\"\n",
    "data.write(\"%s\\n\"%temp)\n",
    "data.close()"
   ]
  },
  {
   "cell_type": "code",
   "execution_count": 7,
   "metadata": {},
   "outputs": [],
   "source": [
    "def createFile():\n",
    "    file = open(\"students.txt\",\"w\")\n",
    "    for x in range(0,1):\n",
    "        nim = input(\"nim=\")\n",
    "        nama = input(\"nama=\")\n",
    "        file.write(\"%s %s \\n\" %(nim,nama))\n",
    "    file.close()\n",
    "createFile()"
   ]
  },
  {
   "cell_type": "code",
   "execution_count": 8,
   "metadata": {},
   "outputs": [],
   "source": [
    "def readFile():\n",
    "    file = open(\"students.txt\")\n",
    "    data = {}\n",
    "    for eachLine in file:\n",
    "        temp = eachLine\n",
    "        (nim,nama)=temp.split()\n",
    "        data[nim]=nama\n",
    "    return data"
   ]
  },
  {
   "cell_type": "code",
   "execution_count": 9,
   "metadata": {},
   "outputs": [
    {
     "output_type": "execute_result",
     "data": {
      "text/plain": [
       "{'gerai': 'd'}"
      ]
     },
     "metadata": {},
     "execution_count": 9
    }
   ],
   "source": [
    "readFile()"
   ]
  },
  {
   "cell_type": "code",
   "execution_count": 4,
   "metadata": {},
   "outputs": [
    {
     "output_type": "stream",
     "name": "stdout",
     "text": [
      "5\n"
     ]
    }
   ],
   "source": [
    "def jum(a):\n",
    "\tif len(a) == 1:\n",
    "\t\treturn a[0]\n",
    "\telse:\n",
    "\t\tif a[0] < jum(a[1:]):\n",
    "\t\t\ta[0] = jum(a[1:])\n",
    "\t\treturn a[0]\n",
    "\t\n",
    "b = [5,3,2,1,4]\n",
    "print(jum(b))"
   ]
  },
  {
   "cell_type": "code",
   "execution_count": null,
   "metadata": {},
   "outputs": [],
   "source": []
  }
 ]
}