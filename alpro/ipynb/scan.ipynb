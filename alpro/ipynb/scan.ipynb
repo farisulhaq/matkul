{
 "metadata": {
  "language_info": {
   "codemirror_mode": {
    "name": "ipython",
    "version": 3
   },
   "file_extension": ".py",
   "mimetype": "text/x-python",
   "name": "python",
   "nbconvert_exporter": "python",
   "pygments_lexer": "ipython3",
   "version": "3.8.3-final"
  },
  "orig_nbformat": 2,
  "kernelspec": {
   "name": "python3",
   "display_name": "Python 3.8.3 32-bit (conda)",
   "metadata": {
    "interpreter": {
     "hash": "519d50afa4fa2a031914d1277caf40e3c230f5b9c6026f4a34e283f752d24e49"
    }
   }
  }
 },
 "nbformat": 4,
 "nbformat_minor": 2,
 "cells": [
  {
   "cell_type": "code",
   "execution_count": 4,
   "metadata": {},
   "outputs": [],
   "source": [
    "from tkinter import messagebox"
   ]
  },
  {
   "cell_type": "code",
   "execution_count": 6,
   "metadata": {},
   "outputs": [],
   "source": [
    "def display(a):\n",
    "    for x in range(len(a)):\n",
    "        print(\"|\",end=\"\")\n",
    "        for y in range(len(a[x])):\n",
    "            data = a[x][y]\n",
    "            print(\"%4d\"%data,end=\"\")\n",
    "        print(\"%4s\"%\"|\")\n"
   ]
  },
  {
   "cell_type": "code",
   "execution_count": 7,
   "metadata": {},
   "outputs": [],
   "source": [
    "def scan(a):\n",
    "    sc = [[1,0],[0,1]]\n",
    "    matsc = []\n",
    "    row = 0\n",
    "    while row <= len(a)-len(sc):\n",
    "        isisc = []\n",
    "        col = 0\n",
    "        while col <= len(a[0])-len(sc[0]):\n",
    "            isi = 0\n",
    "            for x in range(len(sc)):\n",
    "                for y in range(len(sc)):\n",
    "                    isi += a[x+row][y+col]*sc[x][y]\n",
    "            isisc.append(isi)\n",
    "            col += 1\n",
    "        matsc.append(isisc)\n",
    "        row += 1\n",
    "    return matsc"
   ]
  },
  {
   "cell_type": "code",
   "execution_count": 8,
   "metadata": {},
   "outputs": [],
   "source": [
    "def maks(a):\n",
    "    if len(a) % 2 == 0 and len(a[0]) % 2 == 0:\n",
    "        max = []\n",
    "        row = 0\n",
    "        while row < len(a):\n",
    "            isi = []\n",
    "            col = 0\n",
    "            while col < len(a[0]):\n",
    "                mak = 0\n",
    "                for x in range(2):\n",
    "                    for y in range(2):\n",
    "                        if a[x+row][y+col] > mak:\n",
    "                            mak = a[x+row][y+col]\n",
    "                isi.append(mak)\n",
    "                col += 2\n",
    "            max.append(isi)\n",
    "            row += 2\n",
    "        return max\n",
    "    else:\n",
    "        print(\"bego\")\n"
   ]
  },
  {
   "cell_type": "code",
   "execution_count": 9,
   "metadata": {},
   "outputs": [],
   "source": [
    "a = [\n",
    "    [1,2,3,4],\n",
    "    [2,3,4,5],\n",
    "    [3,4,5,6],\n",
    "    [4,5,6,7]\n",
    "]"
   ]
  },
  {
   "cell_type": "code",
   "execution_count": 10,
   "metadata": {},
   "outputs": [
    {
     "output_type": "stream",
     "name": "stdout",
     "text": [
      "|   1   2   3   4   |\n|   2   3   4   5   |\n|   3   4   5   6   |\n|   4   5   6   7   |\n"
     ]
    }
   ],
   "source": [
    "display(a)"
   ]
  },
  {
   "cell_type": "code",
   "execution_count": 11,
   "metadata": {},
   "outputs": [
    {
     "output_type": "stream",
     "name": "stdout",
     "text": [
      "|   4   6   8   |\n|   6   8  10   |\n|   8  10  12   |\n"
     ]
    }
   ],
   "source": [
    "b = scan(a)\n",
    "display(b)\n"
   ]
  },
  {
   "cell_type": "code",
   "execution_count": 12,
   "metadata": {},
   "outputs": [
    {
     "output_type": "stream",
     "name": "stdout",
     "text": [
      "|   3   5   |\n|   5   7   |\n"
     ]
    }
   ],
   "source": [
    "c = maks(a)\n",
    "display(c)"
   ]
  },
  {
   "cell_type": "code",
   "execution_count": null,
   "metadata": {},
   "outputs": [],
   "source": []
  }
 ]
}