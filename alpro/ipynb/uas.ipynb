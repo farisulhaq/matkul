{
 "metadata": {
  "language_info": {
   "codemirror_mode": {
    "name": "ipython",
    "version": 3
   },
   "file_extension": ".py",
   "mimetype": "text/x-python",
   "name": "python",
   "nbconvert_exporter": "python",
   "pygments_lexer": "ipython3",
   "version": "3.8.3-final"
  },
  "orig_nbformat": 2,
  "kernelspec": {
   "name": "python3",
   "display_name": "Python 3.8.3 32-bit (conda)",
   "metadata": {
    "interpreter": {
     "hash": "519d50afa4fa2a031914d1277caf40e3c230f5b9c6026f4a34e283f752d24e49"
    }
   }
  }
 },
 "nbformat": 4,
 "nbformat_minor": 2,
 "cells": [
  {
   "cell_type": "code",
   "execution_count": 1,
   "metadata": {},
   "outputs": [],
   "source": [
    "def angka(a):\n",
    "    b = {}\n",
    "    while a > 0:\n",
    "        if a >= 1000:\n",
    "            nilai = a//1000\n",
    "            a = a % 1000\n",
    "            b['ribuan'] = nilai\n",
    "        elif a >= 100:\n",
    "            nilai = a//100\n",
    "            a = a % 100\n",
    "            b['ratusan'] = nilai\n",
    "        elif a >= 10:\n",
    "            nilai = a//10\n",
    "            a %= 10\n",
    "            b['puluhan'] = nilai\n",
    "        elif a >= 1:\n",
    "            nilai = a//1\n",
    "            a %= 1\n",
    "            b['satuan'] = nilai\n",
    "    return b"
   ]
  },
  {
   "cell_type": "code",
   "execution_count": null,
   "metadata": {},
   "outputs": [],
   "source": [
    "a = int(input('angka : '))\n",
    "b = angka(a)\n",
    "print(b)"
   ]
  },
  {
   "cell_type": "code",
   "execution_count": null,
   "metadata": {},
   "outputs": [],
   "source": [
    "def w(a):\n",
    "    huruf = {}\n",
    "    if len(a) == 0:\n",
    "        return huruf\n",
    "    for i in range(len(a)):\n",
    "        n = 2\n",
    "        for j in range(i+1,len(a)):\n",
    "            if a[i] == a[j]:\n",
    "                huruf[a[i]] = n\n",
    "                n += 1\n",
    "    return w(a)\n",
    "\n",
    "a ='aaaasaaaaassa'\n",
    "        \n",
    "print(w(a))"
   ]
  },
  {
   "cell_type": "code",
   "execution_count": 124,
   "metadata": {},
   "outputs": [
    {
     "output_type": "stream",
     "name": "stdout",
     "text": [
      "{}\n"
     ]
    }
   ],
   "source": [
    "a = {}\n",
    "b = \"asa daaa\"\n",
    "for i in range(len(a)):\n",
    "    a[(b[i])] = 'sats'\n",
    "print(a)"
   ]
  },
  {
   "cell_type": "code",
   "execution_count": null,
   "metadata": {},
   "outputs": [],
   "source": [
    "a = 'aba'\n",
    "b = a.replace('a','')\n",
    "print(len(b))"
   ]
  },
  {
   "cell_type": "code",
   "execution_count": null,
   "metadata": {},
   "outputs": [],
   "source": []
  }
 ]
}