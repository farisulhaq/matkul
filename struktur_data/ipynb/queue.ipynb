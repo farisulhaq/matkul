{
 "metadata": {
  "language_info": {
   "codemirror_mode": {
    "name": "ipython",
    "version": 3
   },
   "file_extension": ".py",
   "mimetype": "text/x-python",
   "name": "python",
   "nbconvert_exporter": "python",
   "pygments_lexer": "ipython3",
   "version": "3.8.5-final"
  },
  "orig_nbformat": 2,
  "kernelspec": {
   "name": "python3",
   "display_name": "Python 3",
   "language": "python"
  }
 },
 "nbformat": 4,
 "nbformat_minor": 2,
 "cells": [
  {
   "source": [
    "# import Queue"
   ],
   "cell_type": "markdown",
   "metadata": {}
  },
  {
   "cell_type": "code",
   "execution_count": 2,
   "metadata": {},
   "outputs": [],
   "source": [
    "from qeueu import * "
   ]
  },
  {
   "cell_type": "code",
   "execution_count": 3,
   "metadata": {},
   "outputs": [
    {
     "output_type": "execute_result",
     "data": {
      "text/plain": [
       "{'A': [0, 10], 'B': [0, 11], 'C': [0, 8]}"
      ]
     },
     "metadata": {},
     "execution_count": 3
    }
   ],
   "source": [
    "def waktu(wkt,data):\n",
    "    que = createqueue()\n",
    "    for i in data:\n",
    "        enQueue(que,i)\n",
    "    temp = 0\n",
    "    while not(isEmpty(que)):\n",
    "        q = deQueue(que)\n",
    "        if data[q][0] > wkt:\n",
    "            enQueue(que,q)\n",
    "            data[q][0] -= wkt\n",
    "            temp += wkt\n",
    "        else:\n",
    "            temp += data[q][0]\n",
    "            data[q][0] = 0\n",
    "        data[q][1] = temp\n",
    "    return data\n",
    "a = {\"A\":[5,0],\"B\":[4,0],\"C\":[2,0]}\n",
    "waktu(3,a)\n",
    "        \n"
   ]
  },
  {
   "cell_type": "code",
   "execution_count": null,
   "metadata": {},
   "outputs": [],
   "source": []
  }
 ]
}