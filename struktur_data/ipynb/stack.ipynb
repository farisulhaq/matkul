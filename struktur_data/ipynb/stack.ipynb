{
 "metadata": {
  "language_info": {
   "codemirror_mode": {
    "name": "ipython",
    "version": 3
   },
   "file_extension": ".py",
   "mimetype": "text/x-python",
   "name": "python",
   "nbconvert_exporter": "python",
   "pygments_lexer": "ipython3",
   "version": "3.8.5-final"
  },
  "orig_nbformat": 2,
  "kernelspec": {
   "name": "python3",
   "display_name": "Python 3",
   "language": "python"
  }
 },
 "nbformat": 4,
 "nbformat_minor": 2,
 "cells": [
  {
   "source": [
    "# import stack"
   ],
   "cell_type": "markdown",
   "metadata": {}
  },
  {
   "cell_type": "code",
   "execution_count": 1,
   "metadata": {},
   "outputs": [],
   "source": [
    "from stack import *"
   ]
  },
  {
   "source": [
    "## bilangan prima"
   ],
   "cell_type": "markdown",
   "metadata": {}
  },
  {
   "cell_type": "code",
   "execution_count": null,
   "metadata": {},
   "outputs": [],
   "source": [
    "def isprima(angka):\n",
    "    if angka < 3:\n",
    "        return False\n",
    "    else:\n",
    "        for i in range(2,angka):\n",
    "            if angka % i == 0:\n",
    "                return False\n",
    "    return True\n"
   ]
  },
  {
   "cell_type": "code",
   "execution_count": null,
   "metadata": {},
   "outputs": [],
   "source": [
    "def bilprima(data):\n",
    "    a = []\n",
    "    b = []\n",
    "    for i in range(1,data+1,2):\n",
    "        if isprima(i) == True:\n",
    "            a.append(i)\n",
    "        else:\n",
    "            b.append(i)\n",
    "    return a,b\n"
   ]
  },
  {
   "cell_type": "code",
   "execution_count": null,
   "metadata": {},
   "outputs": [],
   "source": [
    "bilprima(20)"
   ]
  },
  {
   "cell_type": "code",
   "execution_count": null,
   "metadata": {},
   "outputs": [],
   "source": [
    "def bilangan_prima(angka):\n",
    "    prima = []\n",
    "    bprima = []\n",
    "    for i in range(1,angka+1,2):\n",
    "        if i == 1:\n",
    "            bprima.append(i)\n",
    "        else:\n",
    "            for x in range(2,i):\n",
    "                if i % x == 0:\n",
    "                    bprima.append(i)\n",
    "                    break\n",
    "            else:\n",
    "                prima.append(i)\n",
    "    return prima,bprima\n",
    "bilangan_prima(20)\n"
   ]
  },
  {
   "cell_type": "code",
   "execution_count": null,
   "metadata": {},
   "outputs": [],
   "source": [
    "def someFunction(angka):\n",
    "    temp = 0\n",
    "    for i in range(1,angka+1):\n",
    "        temp += 3 * i + 4\n",
    "    return temp / (5 * angka)\n",
    "print(someFunction(1))\n",
    "print(someFunction(2))\n",
    "print(someFunction(3))\n",
    "print(someFunction(5))\n",
    "print(someFunction(100))"
   ]
  },
  {
   "cell_type": "code",
   "execution_count": null,
   "metadata": {},
   "outputs": [],
   "source": [
    "def addlist(x,y):\n",
    "    if len(x) < len(y):\n",
    "        x,y = y,x\n",
    "    for i in range(len(y)):\n",
    "        x[i] += y[i]\n",
    "    return x\n",
    "a = [2,1,5,6]\n",
    "b = [6,7]\n",
    "c = [3,7,9,0,2,4,6,2]\n",
    "print(addlist(a,b))\n",
    "print(addlist(a,c))"
   ]
  },
  {
   "source": [
    "### faktorial"
   ],
   "cell_type": "markdown",
   "metadata": {}
  },
  {
   "cell_type": "code",
   "execution_count": null,
   "metadata": {},
   "outputs": [],
   "source": [
    "def faktor(angka):\n",
    "    fct = []\n",
    "    for i in range(1,angka+1):\n",
    "        if angka % i == 0:\n",
    "            fct.append(i)\n",
    "    return fct\n",
    "print(faktor(8))\n",
    "print(faktor(21))\n",
    "print(faktor(24))\n",
    "print(faktor(100))"
   ]
  },
  {
   "cell_type": "code",
   "execution_count": null,
   "metadata": {},
   "outputs": [],
   "source": [
    "def factorial(angka):\n",
    "    if angka <= 1:\n",
    "        temp = 1\n",
    "    else:\n",
    "        temp = angka * factorial(angka-1)\n",
    "    return temp\n",
    "print(factorial(0))\n",
    "print(factorial(1))\n",
    "print(factorial(2))\n",
    "print(factorial(5))"
   ]
  },
  {
   "source": [
    "# implement stack"
   ],
   "cell_type": "markdown",
   "metadata": {}
  },
  {
   "source": [
    "## 1. cek kurung"
   ],
   "cell_type": "markdown",
   "metadata": {}
  },
  {
   "cell_type": "code",
   "execution_count": 2,
   "metadata": {},
   "outputs": [],
   "source": [
    "def mat(a):\n",
    "    st = stack()\n",
    "    buka = '({['\n",
    "    tutup = ')}]'\n",
    "    pesan = True\n",
    "    for i in a:\n",
    "        if i in buka:\n",
    "            push(st,i)\n",
    "        elif i in tutup:\n",
    "            if not(isEmpty(st)):\n",
    "                temp = pop(st)\n",
    "                if buka.index(temp) == tutup.index(i):\n",
    "                    pesan = True\n",
    "                else:\n",
    "                    pesan = False\n",
    "                    print('kurung buka dan kurung tutup tidak sama')\n",
    "            else:\n",
    "                print('kelebihan kurung tutup')\n",
    "    if not(isEmpty(st)):\n",
    "        print(\"kelebihan kurung buka\")\n",
    "    return pesan\n"
   ]
  },
  {
   "cell_type": "code",
   "execution_count": 3,
   "metadata": {},
   "outputs": [
    {
     "output_type": "stream",
     "name": "stdout",
     "text": [
      "True\n"
     ]
    }
   ],
   "source": [
    "a='5 x (4 + 5) / ((3 + 2) x (10 - 8))'\n",
    "print(mat(a))"
   ]
  },
  {
   "source": [
    "## 2. Menghitung Postfix"
   ],
   "cell_type": "markdown",
   "metadata": {}
  },
  {
   "cell_type": "code",
   "execution_count": 4,
   "metadata": {},
   "outputs": [],
   "source": [
    "def evaluatePost(postStr):\n",
    "    st = stack()\n",
    "    operator='+-/*'\n",
    "    postStr = postStr.replace(' ','')\n",
    "    print(postStr)\n",
    "    for i in postStr:\n",
    "        if i not in operator:\n",
    "            push(st,i)\n",
    "        elif i in operator:\n",
    "            print(st)\n",
    "            a = float(pop(st))\n",
    "            b = float(pop(st))\n",
    "            if i == '+':\n",
    "                hasil = b + a\n",
    "                push(st,hasil)\n",
    "            elif i == '-':\n",
    "                hasil = b - a\n",
    "                push(st,hasil)\n",
    "            elif i == '*':\n",
    "                hasil = b * a\n",
    "                push(st,hasil)\n",
    "            elif i ==\"/\":\n",
    "                hasil = b / a\n",
    "                push(st,hasil)\n",
    "    return hasil  "
   ]
  },
  {
   "cell_type": "code",
   "execution_count": 5,
   "metadata": {},
   "outputs": [
    {
     "output_type": "stream",
     "name": "stdout",
     "text": [
      "1233*/*\n['1', '2', '3', '3']\n['1', '2', 9.0]\n['1', 0.2222222222222222]\n0.2222222222222222\n"
     ]
    }
   ],
   "source": [
    "print(evaluatePost('1 2 3 3 * / *'))"
   ]
  },
  {
   "cell_type": "code",
   "execution_count": 6,
   "metadata": {},
   "outputs": [
    {
     "output_type": "stream",
     "name": "stdout",
     "text": [
      "122\n"
     ]
    }
   ],
   "source": [
    "a = '1 2 2'\n",
    "a = a.replace(' ','')\n",
    "print(a)"
   ]
  },
  {
   "source": [
    "## Biner To Desimal"
   ],
   "cell_type": "markdown",
   "metadata": {}
  },
  {
   "cell_type": "code",
   "execution_count": 7,
   "metadata": {},
   "outputs": [
    {
     "output_type": "execute_result",
     "data": {
      "text/plain": [
       "8"
      ]
     },
     "metadata": {},
     "execution_count": 7
    }
   ],
   "source": [
    "def BinToDec(biner):\n",
    "    st = stack()\n",
    "    temp = 0\n",
    "    a = 0\n",
    "    for i in biner:\n",
    "        push(st,i)\n",
    "    while not(isEmpty(st)):\n",
    "        temp += int(pop(st)) * (2 ** a)  \n",
    "        a += 1       \n",
    "    return temp    \n",
    "BinToDec('1000')"
   ]
  },
  {
   "source": [
    "## 1. Revers Word"
   ],
   "cell_type": "markdown",
   "metadata": {}
  },
  {
   "cell_type": "code",
   "execution_count": null,
   "metadata": {},
   "outputs": [],
   "source": [
    "def word(zahra):\n",
    "    st = stack()\n",
    "    temp = \"\"\n",
    "    for i in zahra:\n",
    "        push(st,i)\n",
    "        print(st)\n",
    "    print('\\n')\n",
    "    while not(isEmpty(st)):\n",
    "        temp += pop(st)\n",
    "        print(temp)\n",
    "    return temp\n",
    "a = input(\"masukkan kata : \")\n",
    "word(a)\n"
   ]
  },
  {
   "source": [
    "## 2. Decimal To Biner"
   ],
   "cell_type": "markdown",
   "metadata": {}
  },
  {
   "cell_type": "code",
   "execution_count": null,
   "metadata": {},
   "outputs": [],
   "source": [
    "def dectobin(angka):\n",
    "    st = stack()\n",
    "    temp = \"\"\n",
    "    while angka > 0:\n",
    "        push(st,angka % 2)\n",
    "        angka //= 2\n",
    "    while not(isEmpty(st)):\n",
    "        temp += str(pop(st))\n",
    "    return temp\n",
    "dectobin(8)"
   ]
  },
  {
   "source": [
    "## 3. Convert Infix To Postfix"
   ],
   "cell_type": "markdown",
   "metadata": {}
  },
  {
   "cell_type": "code",
   "execution_count": null,
   "metadata": {},
   "outputs": [],
   "source": [
    "def InfixToPostfix(data):\n",
    "    st = stack()\n",
    "    postfix = []\n",
    "    infix = data.split()\n",
    "    for i in infix:\n",
    "\n",
    "InfixToPostfix('1 + 2 * 3')"
   ]
  }
 ]
}