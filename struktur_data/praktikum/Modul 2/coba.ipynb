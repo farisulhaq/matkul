{
 "metadata": {
  "language_info": {
   "codemirror_mode": {
    "name": "ipython",
    "version": 3
   },
   "file_extension": ".py",
   "mimetype": "text/x-python",
   "name": "python",
   "nbconvert_exporter": "python",
   "pygments_lexer": "ipython3",
   "version": "3.8.5-final"
  },
  "orig_nbformat": 2,
  "kernelspec": {
   "name": "python3",
   "display_name": "Python 3",
   "language": "python"
  }
 },
 "nbformat": 4,
 "nbformat_minor": 2,
 "cells": [
  {
   "cell_type": "code",
   "execution_count": 3,
   "metadata": {},
   "outputs": [],
   "source": [
    "import stack as st"
   ]
  },
  {
   "cell_type": "code",
   "execution_count": null,
   "metadata": {},
   "outputs": [],
   "source": [
    "def cek_kurung(data):\n",
    "    stk = st.stack()\n",
    "    cek = True\n",
    "    buka = '({['\n",
    "    tutup = ')}]'\n",
    "    for i in data :\n",
    "        if i in buka :\n",
    "            st.push(stk,i)\n",
    "        elif i in tutup :\n",
    "            if not(st.isEmpty(stk)) :\n",
    "                if buka.index(st.peek(stk))==tutup.index(i) :\n",
    "                    st.pop(stk)\n",
    "                else :\n",
    "                    return ('kurung buka dan tutup kurung tidak sama')      \n",
    "            else :\n",
    "                return ('jumlah tutup kurung lebih banyak')\n",
    "    if not(st.isEmpty(stk)) :\n",
    "        return ('jumlah buka kurung lebih banyak')\n",
    "    return (cek)\n",
    "# fungsi operasi\n",
    "def evaluasi (data) :\n",
    "    oper = st.stack()\n",
    "    operator = '+-/*'\n",
    "    for i in data :\n",
    "        if i not in operator :\n",
    "            st.push(oper,i)\n",
    "        else :\n",
    "            op1 = float(st.pop(oper))\n",
    "            op2 = float(st.pop(oper))\n",
    "            if i=='+' :\n",
    "                hsl = op2 + op1\n",
    "            elif i=='-' :\n",
    "                hsl = op2 - op1\n",
    "            elif i == '*' :\n",
    "                hsl = op2 * op1\n",
    "            else :\n",
    "                hsl = op2 / op1\n",
    "            st.push (oper,hsl)\n",
    "    return (st.pop(oper))\n",
    "\n",
    "def infixTopostfix(data) :\n",
    "    if cek_kurung(data) is True:\n",
    "        s = st.stack()\n",
    "        operator = {'*':3,'/':3,'+':2,'-':2,'(':1,'[':1,'{':1}\n",
    "        buka = \"({[\"\n",
    "        tutup = \")}]\"\n",
    "        hasil = \"\"\n",
    "        for i in data :\n",
    "            if i.isnumeric() :\n",
    "                hasil += i\n",
    "            elif i in buka:\n",
    "                st.push(s,i)\n",
    "            elif i in tutup: \n",
    "                temp = st.pop(s)\n",
    "                while temp != buka[tutup.index(i)] :\n",
    "                    hasil += temp\n",
    "                    temp = st.pop(s)\n",
    "            else :\n",
    "                while not(st.isEmpty(s)) and operator[st.peek(s)] >= operator[i] :\n",
    "                    hasil += st.pop(s)\n",
    "                st.push(s,i)\n",
    "        while not(st.isEmpty(s)) :\n",
    "            hasil += st.pop(s)\n",
    "        return hasil\n",
    "    else :\n",
    "        return cek_kurung(data)"
   ]
  },
  {
   "cell_type": "code",
   "execution_count": 12,
   "metadata": {},
   "outputs": [
    {
     "output_type": "stream",
     "name": "stdout",
     "text": [
      "\n",
      "\n",
      "\n",
      "\n",
      "\n"
     ]
    }
   ],
   "source": [
    "star = True\n",
    "while star:\n",
    "    a = input('masukkan string operasi aritmatika = ')\n",
    "    y = infixTopostfix(a)\n",
    "    if \"*\" in y or \"+\" in y or \"/\" in y or \"-\" in y:\n",
    "        print('infix : ',a,' ; ','postfix : ',y,' = ',evaluasi(y))\n",
    "    else:\n",
    "        print(y)\n",
    "    if input(\"lagi? \") == \"n\":\n",
    "        star = False"
   ]
  },
  {
   "cell_type": "code",
   "execution_count": 8,
   "metadata": {},
   "outputs": [
    {
     "output_type": "stream",
     "name": "stdout",
     "text": [
      "[1, 2]\n"
     ]
    },
    {
     "output_type": "error",
     "ename": "TypeError",
     "evalue": "sequence item 0: expected str instance, int found",
     "traceback": [
      "\u001b[1;31m---------------------------------------------------------------------------\u001b[0m",
      "\u001b[1;31mTypeError\u001b[0m                                 Traceback (most recent call last)",
      "\u001b[1;32m<ipython-input-8-ae119047824b>\u001b[0m in \u001b[0;36m<module>\u001b[1;34m\u001b[0m\n\u001b[0;32m      1\u001b[0m \u001b[0ma\u001b[0m \u001b[1;33m=\u001b[0m \u001b[1;33m[\u001b[0m\u001b[1;36m1\u001b[0m\u001b[1;33m,\u001b[0m\u001b[1;36m2\u001b[0m\u001b[1;33m]\u001b[0m\u001b[1;33m\u001b[0m\u001b[1;33m\u001b[0m\u001b[0m\n\u001b[0;32m      2\u001b[0m \u001b[0mprint\u001b[0m\u001b[1;33m(\u001b[0m\u001b[0mstr\u001b[0m\u001b[1;33m(\u001b[0m\u001b[0ma\u001b[0m\u001b[1;33m)\u001b[0m\u001b[1;33m)\u001b[0m\u001b[1;33m\u001b[0m\u001b[1;33m\u001b[0m\u001b[0m\n\u001b[1;32m----> 3\u001b[1;33m \u001b[0mprint\u001b[0m\u001b[1;33m(\u001b[0m\u001b[1;34m\" \"\u001b[0m\u001b[1;33m.\u001b[0m\u001b[0mjoin\u001b[0m\u001b[1;33m(\u001b[0m\u001b[0ma\u001b[0m\u001b[1;33m)\u001b[0m\u001b[1;33m)\u001b[0m\u001b[1;33m\u001b[0m\u001b[1;33m\u001b[0m\u001b[0m\n\u001b[0m",
      "\u001b[1;31mTypeError\u001b[0m: sequence item 0: expected str instance, int found"
     ]
    }
   ],
   "source": [
    "a = [1,2]\n",
    "print(str(a))\n",
    "print(\" \".join(a))"
   ]
  }
 ]
}