{
 "metadata": {
  "language_info": {
   "codemirror_mode": {
    "name": "ipython",
    "version": 3
   },
   "file_extension": ".py",
   "mimetype": "text/x-python",
   "name": "python",
   "nbconvert_exporter": "python",
   "pygments_lexer": "ipython3",
   "version": "3.8.3-final"
  },
  "orig_nbformat": 2,
  "kernelspec": {
   "name": "python3",
   "display_name": "Python 3",
   "language": "python"
  }
 },
 "nbformat": 4,
 "nbformat_minor": 2,
 "cells": [
  {
   "cell_type": "code",
   "execution_count": 2,
   "metadata": {},
   "outputs": [],
   "source": [
    "def isprima(angka):\n",
    "    if angka < 3:\n",
    "        return False\n",
    "    else:\n",
    "        for i in range(2,angka):\n",
    "            if angka % i == 0:\n",
    "                return False\n",
    "    return True\n"
   ]
  },
  {
   "cell_type": "code",
   "execution_count": 3,
   "metadata": {},
   "outputs": [],
   "source": [
    "def bilprima(data):\n",
    "    a = []\n",
    "    b = []\n",
    "    for i in range(1,data+1,2):\n",
    "        if isprima(i) == True:\n",
    "            a.append(i)\n",
    "        else:\n",
    "            b.append(i)\n",
    "    return a,b\n"
   ]
  },
  {
   "cell_type": "code",
   "execution_count": 4,
   "metadata": {},
   "outputs": [
    {
     "output_type": "execute_result",
     "data": {
      "text/plain": [
       "([3, 5, 7, 11, 13, 17, 19], [1, 9, 15])"
      ]
     },
     "metadata": {},
     "execution_count": 4
    }
   ],
   "source": [
    "bilprima(20)"
   ]
  },
  {
   "cell_type": "code",
   "execution_count": 5,
   "metadata": {},
   "outputs": [
    {
     "output_type": "execute_result",
     "data": {
      "text/plain": [
       "([3, 5, 7, 11, 13, 17, 19], [1, 9, 15])"
      ]
     },
     "metadata": {},
     "execution_count": 5
    }
   ],
   "source": [
    "def bilangan_prima(angka):\n",
    "    prima = []\n",
    "    bprima = []\n",
    "    for i in range(1,angka+1,2):\n",
    "        if i == 1:\n",
    "            bprima.append(i)\n",
    "        else:\n",
    "            for x in range(2,i):\n",
    "                if i % x == 0:\n",
    "                    bprima.append(i)\n",
    "                    break\n",
    "            else:\n",
    "                prima.append(i)\n",
    "    return prima,bprima\n",
    "bilangan_prima(20)\n"
   ]
  },
  {
   "cell_type": "code",
   "execution_count": 6,
   "metadata": {},
   "outputs": [
    {
     "output_type": "stream",
     "name": "stdout",
     "text": [
      "1.4\n1.7\n2.0\n2.6\n31.1\n"
     ]
    }
   ],
   "source": [
    "def someFunction(angka):\n",
    "    temp = 0\n",
    "    for i in range(1,angka+1):\n",
    "        temp += 3 * i + 4\n",
    "    return temp / (5 * angka)\n",
    "print(someFunction(1))\n",
    "print(someFunction(2))\n",
    "print(someFunction(3))\n",
    "print(someFunction(5))\n",
    "print(someFunction(100))"
   ]
  },
  {
   "cell_type": "code",
   "execution_count": 7,
   "metadata": {},
   "outputs": [
    {
     "output_type": "stream",
     "name": "stdout",
     "text": [
      "[8, 8, 5, 6]\n[11, 15, 14, 6, 2, 4, 6, 2]\n"
     ]
    }
   ],
   "source": [
    "def addlist(x,y):\n",
    "    if len(x) < len(y):\n",
    "        x,y = y,x\n",
    "    for i in range(len(y)):\n",
    "        x[i] += y[i]\n",
    "    return x\n",
    "a = [2,1,5,6]\n",
    "b = [6,7]\n",
    "c = [3,7,9,0,2,4,6,2]\n",
    "print(addlist(a,b))\n",
    "print(addlist(a,c))"
   ]
  },
  {
   "cell_type": "code",
   "execution_count": 8,
   "metadata": {},
   "outputs": [
    {
     "output_type": "stream",
     "name": "stdout",
     "text": [
      "[1, 2, 4, 8]\n[1, 3, 7, 21]\n[1, 2, 3, 4, 6, 8, 12, 24]\n[1, 2, 4, 5, 10, 20, 25, 50, 100]\n"
     ]
    }
   ],
   "source": [
    "def faktor(angka):\n",
    "    fct = []\n",
    "    for i in range(1,angka+1):\n",
    "        if angka % i == 0:\n",
    "            fct.append(i)\n",
    "    return fct\n",
    "print(faktor(8))\n",
    "print(faktor(21))\n",
    "print(faktor(24))\n",
    "print(faktor(100))"
   ]
  },
  {
   "cell_type": "code",
   "execution_count": 9,
   "metadata": {},
   "outputs": [
    {
     "output_type": "stream",
     "name": "stdout",
     "text": [
      "1\n1\n2\n120\n"
     ]
    }
   ],
   "source": [
    "def factorial(angka):\n",
    "    if angka <= 1:\n",
    "        temp = 1\n",
    "    else:\n",
    "        temp = angka * factorial(angka-1)\n",
    "    return temp\n",
    "print(factorial(0))\n",
    "print(factorial(1))\n",
    "print(factorial(2))\n",
    "print(factorial(5))"
   ]
  },
  {
   "cell_type": "code",
   "execution_count": 10,
   "metadata": {},
   "outputs": [],
   "source": [
    "from stack import *\n",
    "def paranthesesCheck(strMath):\n",
    "    operandStack=stack()\n",
    "    lenMath=len(strMath)\n",
    "    openOperand='({['\n",
    "    closeOperand=')}]'\n",
    "    #print(lenMath)\n",
    "    i=0\n",
    "    Matched=True;\n",
    "    while i<(lenMath):\n",
    "        # []\n",
    "        # 5 x (4 + 5) / (3 + 2) x (10 - 8)'\n",
    "        #print(i,'=',strMath[i])\n",
    "        if strMath[i] in openOperand:\n",
    "            push(operandStack,strMath[i])\n",
    "            #print(operandStack)\n",
    "        elif strMath[i] in closeOperand:\n",
    "            if not (isEmpty(operandStack)):\n",
    "                top=pop(operandStack)\n",
    "                #print(\"top=\",top)\n",
    "                #print (operandStack)\n",
    "                if openOperand.index(top)==closeOperand.index(strMath[i]):\n",
    "                    Matched=Matched and True\n",
    "                else:\n",
    "                    Matched=Matched and False\n",
    "                    print ('Kurung Buka dan Kurang Tutup tidak Cocok')\n",
    "            else:\n",
    "                Matched=Matched and False\n",
    "                print('Jumlah Kurung Tutup lebih banyak')\n",
    "        i=i+1\n",
    "        #print(Matched)\n",
    "    if not(isEmpty(operandStack)):\n",
    "        Matched=False\n",
    "        print('Jumlah Kurung Buka Lebih banyak')\n",
    "    return(Matched)"
   ]
  },
  {
   "cell_type": "code",
   "execution_count": 11,
   "metadata": {},
   "outputs": [
    {
     "output_type": "stream",
     "name": "stdout",
     "text": [
      "Jumlah Kurung Tutup lebih banyak\nJumlah Kurung Tutup lebih banyak\nJumlah Kurung Buka Lebih banyak\nFalse\n"
     ]
    }
   ],
   "source": [
    "a='5 x (4 + 5) / )) ((3 + 2) x (10 - 8)'\n",
    "b = paranthesesCheck(a)\n",
    "print(b)"
   ]
  },
  {
   "cell_type": "code",
   "execution_count": 12,
   "metadata": {},
   "outputs": [],
   "source": [
    "def mat(a):\n",
    "    st = stack()\n",
    "    buka = '({['\n",
    "    tutup = ')}]'\n",
    "    pesan = True\n",
    "    for i in a:\n",
    "        if i in buka:\n",
    "            push(st,i)\n",
    "        elif i in tutup:\n",
    "            if not(isEmpty(st)):\n",
    "                temp = pop(st)\n",
    "                if buka.index(temp) == tutup.index(i):\n",
    "                    pesan = True\n",
    "                else:\n",
    "                    pesan = False\n",
    "                    print('kurung buka dan kurung tutup tidak sama')\n",
    "            else:\n",
    "                print('kelebihan kurung tutup')\n",
    "    if not(isEmpty(st)):\n",
    "        print(\"kelebihan kurung buka\")\n",
    "    return pesan\n"
   ]
  },
  {
   "cell_type": "code",
   "execution_count": 13,
   "metadata": {},
   "outputs": [
    {
     "output_type": "stream",
     "name": "stdout",
     "text": [
      "True\n"
     ]
    }
   ],
   "source": [
    "a='5 x (4 + 5) / ((3 + 2) x (10 - 8))'\n",
    "print(mat(a))"
   ]
  },
  {
   "cell_type": "code",
   "execution_count": 27,
   "metadata": {},
   "outputs": [],
   "source": [
    "def evaluatePost(postStr):\n",
    "    st = stack()\n",
    "    operator='+-/*'\n",
    "    postStr = postStr.replace(' ','')\n",
    "    print(postStr)\n",
    "    for i in postStr:\n",
    "        if i not in operator:\n",
    "            push(st,i)\n",
    "        elif i in operator:\n",
    "            print(st)\n",
    "            a = float(pop(st))\n",
    "            b = float(pop(st))\n",
    "            if i == '+':\n",
    "                hasil = b + a\n",
    "                push(st,hasil)\n",
    "            elif i == '-':\n",
    "                hasil = b - a\n",
    "                push(st,hasil)\n",
    "            elif i == '*':\n",
    "                hasil = b * a\n",
    "                push(st,hasil)\n",
    "            elif i ==\"/\":\n",
    "                hasil = b / a\n",
    "                push(st,hasil)\n",
    "    return hasil\n",
    "            \n",
    "        "
   ]
  },
  {
   "cell_type": "code",
   "execution_count": 28,
   "metadata": {},
   "outputs": [
    {
     "output_type": "stream",
     "name": "stdout",
     "text": [
      "1233*/*\n['1', '2', '3', '3']\n['1', '2', 9.0]\n['1', 0.2222222222222222]\n0.2222222222222222\n"
     ]
    }
   ],
   "source": [
    "print(evaluatePost('1 2 3 3 * / *'))"
   ]
  },
  {
   "cell_type": "code",
   "execution_count": 3,
   "metadata": {},
   "outputs": [
    {
     "output_type": "error",
     "ename": "AttributeError",
     "evalue": "'function' object has no attribute 'append'",
     "traceback": [
      "\u001b[1;31m---------------------------------------------------------------------------\u001b[0m",
      "\u001b[1;31mAttributeError\u001b[0m                            Traceback (most recent call last)",
      "\u001b[1;32m<ipython-input-3-af4b81b970c9>\u001b[0m in \u001b[0;36m<module>\u001b[1;34m\u001b[0m\n\u001b[0;32m     15\u001b[0m \u001b[1;33m\u001b[0m\u001b[0m\n\u001b[0;32m     16\u001b[0m \u001b[1;31m# print('biner dari 10',cek(10))\u001b[0m\u001b[1;33m\u001b[0m\u001b[1;33m\u001b[0m\u001b[1;33m\u001b[0m\u001b[0m\n\u001b[1;32m---> 17\u001b[1;33m \u001b[0mprint\u001b[0m\u001b[1;33m(\u001b[0m\u001b[1;34m'reverse kata'\u001b[0m\u001b[1;33m,\u001b[0m\u001b[0mcek\u001b[0m\u001b[1;33m(\u001b[0m\u001b[1;34m'faris'\u001b[0m\u001b[1;33m)\u001b[0m\u001b[1;33m)\u001b[0m\u001b[1;33m\u001b[0m\u001b[1;33m\u001b[0m\u001b[0m\n\u001b[0m",
      "\u001b[1;32m<ipython-input-3-af4b81b970c9>\u001b[0m in \u001b[0;36mcek\u001b[1;34m(string)\u001b[0m\n\u001b[0;32m      4\u001b[0m     \u001b[1;32mif\u001b[0m \u001b[0mtype\u001b[0m\u001b[1;33m(\u001b[0m\u001b[0mstring\u001b[0m\u001b[1;33m)\u001b[0m \u001b[1;33m==\u001b[0m \u001b[0mstr\u001b[0m\u001b[1;33m:\u001b[0m\u001b[1;33m\u001b[0m\u001b[1;33m\u001b[0m\u001b[0m\n\u001b[0;32m      5\u001b[0m         \u001b[1;32mfor\u001b[0m \u001b[0mi\u001b[0m \u001b[1;32min\u001b[0m \u001b[0mrange\u001b[0m\u001b[1;33m(\u001b[0m\u001b[0mlen\u001b[0m\u001b[1;33m(\u001b[0m\u001b[0mstring\u001b[0m\u001b[1;33m)\u001b[0m\u001b[1;33m)\u001b[0m\u001b[1;33m:\u001b[0m\u001b[1;33m\u001b[0m\u001b[1;33m\u001b[0m\u001b[0m\n\u001b[1;32m----> 6\u001b[1;33m             \u001b[0mpush\u001b[0m\u001b[1;33m(\u001b[0m\u001b[0mst\u001b[0m\u001b[1;33m,\u001b[0m\u001b[0mi\u001b[0m\u001b[1;33m)\u001b[0m\u001b[1;33m\u001b[0m\u001b[1;33m\u001b[0m\u001b[0m\n\u001b[0m\u001b[0;32m      7\u001b[0m     \u001b[1;31m# else:\u001b[0m\u001b[1;33m\u001b[0m\u001b[1;33m\u001b[0m\u001b[1;33m\u001b[0m\u001b[0m\n\u001b[0;32m      8\u001b[0m     \u001b[1;31m#     while string > 0:\u001b[0m\u001b[1;33m\u001b[0m\u001b[1;33m\u001b[0m\u001b[1;33m\u001b[0m\u001b[0m\n",
      "\u001b[1;32md:\\matkul\\struktur_data\\stack\\ipynb\\stack.py\u001b[0m in \u001b[0;36mpush\u001b[1;34m(s, data)\u001b[0m\n\u001b[0;32m      3\u001b[0m     \u001b[1;32mreturn\u001b[0m \u001b[0ms\u001b[0m\u001b[1;33m\u001b[0m\u001b[1;33m\u001b[0m\u001b[0m\n\u001b[0;32m      4\u001b[0m \u001b[1;32mdef\u001b[0m \u001b[0mpush\u001b[0m\u001b[1;33m(\u001b[0m\u001b[0ms\u001b[0m\u001b[1;33m,\u001b[0m\u001b[0mdata\u001b[0m\u001b[1;33m)\u001b[0m\u001b[1;33m:\u001b[0m\u001b[1;33m\u001b[0m\u001b[1;33m\u001b[0m\u001b[0m\n\u001b[1;32m----> 5\u001b[1;33m     \u001b[0ms\u001b[0m\u001b[1;33m.\u001b[0m\u001b[0mappend\u001b[0m\u001b[1;33m(\u001b[0m\u001b[0mdata\u001b[0m\u001b[1;33m)\u001b[0m\u001b[1;33m\u001b[0m\u001b[1;33m\u001b[0m\u001b[0m\n\u001b[0m\u001b[0;32m      6\u001b[0m \u001b[1;32mdef\u001b[0m \u001b[0mpop\u001b[0m\u001b[1;33m(\u001b[0m\u001b[0ms\u001b[0m\u001b[1;33m)\u001b[0m\u001b[1;33m:\u001b[0m\u001b[1;33m\u001b[0m\u001b[1;33m\u001b[0m\u001b[0m\n\u001b[0;32m      7\u001b[0m     \u001b[0mdata\u001b[0m \u001b[1;33m=\u001b[0m \u001b[0ms\u001b[0m\u001b[1;33m.\u001b[0m\u001b[0mpop\u001b[0m\u001b[1;33m(\u001b[0m\u001b[1;33m)\u001b[0m\u001b[1;33m\u001b[0m\u001b[1;33m\u001b[0m\u001b[0m\n",
      "\u001b[1;31mAttributeError\u001b[0m: 'function' object has no attribute 'append'"
     ]
    }
   ],
   "source": []
  },
  {
   "cell_type": "code",
   "execution_count": 16,
   "metadata": {},
   "outputs": [
    {
     "output_type": "stream",
     "name": "stdout",
     "text": [
      "122\n"
     ]
    }
   ],
   "source": [
    "a = '1 2 2'\n",
    "a = a.replace(' ','')\n",
    "print(a)"
   ]
  }
 ]
}