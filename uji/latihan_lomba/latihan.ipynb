{
 "metadata": {
  "language_info": {
   "codemirror_mode": {
    "name": "ipython",
    "version": 3
   },
   "file_extension": ".py",
   "mimetype": "text/x-python",
   "name": "python",
   "nbconvert_exporter": "python",
   "pygments_lexer": "ipython3",
   "version": "3.8.5-final"
  },
  "orig_nbformat": 2,
  "kernelspec": {
   "name": "python385jvsc74a57bd0519d50afa4fa2a031914d1277caf40e3c230f5b9c6026f4a34e283f752d24e49",
   "display_name": "Python 3.8.5 64-bit (conda)"
  }
 },
 "nbformat": 4,
 "nbformat_minor": 2,
 "cells": [
  {
   "cell_type": "code",
   "execution_count": null,
   "metadata": {},
   "outputs": [],
   "source": [
    "print(1)\n",
    "print(\"|\")\n",
    "print(\"V\")\n",
    "print(2)"
   ]
  },
  {
   "cell_type": "code",
   "execution_count": null,
   "metadata": {},
   "outputs": [],
   "source": [
    "n = 6\n",
    "x = []\n",
    "y = []\n",
    "for i in range(n):\n",
    "    a,b = list(map(int,input().split()))\n",
    "    x.append(a)\n",
    "    y.append(b)\n",
    "temp = 0\n",
    "for i in range(n-1):\n",
    "    temp += x[i] * y[i+1] - x[i+1] * y[i]\n",
    "print(abs(temp/2))\n",
    "\n",
    "\n"
   ]
  },
  {
   "cell_type": "code",
   "execution_count": null,
   "metadata": {},
   "outputs": [],
   "source": [
    "a = \"2 * 3\"\n",
    "print(eval(a))"
   ]
  },
  {
   "cell_type": "code",
   "execution_count": null,
   "metadata": {},
   "outputs": [],
   "source": [
    "print(list(map(int,[\"1\",\"2\"])))"
   ]
  },
  {
   "cell_type": "code",
   "execution_count": null,
   "metadata": {},
   "outputs": [],
   "source": [
    "def sparseMatrix () :\n",
    "    mat = { }\n",
    "    row = int(input('Jumlah Baris = '))\n",
    "    col = int(input('Jumlah Kolom = '))\n",
    "    ele = int(input('Jumlah data = '))\n",
    "    while len(mat) < ele:\n",
    "        stop = False\n",
    "        bar = int(input('Baris ke- ? '))\n",
    "        if bar < row:\n",
    "            while not(stop) :\n",
    "                kol = int(input('Kolom ke- ? '))\n",
    "                if kol < col:\n",
    "                    data = int(input('matrik ['+str(bar)+','+str(kol)+'] = '))\n",
    "                    mat [bar,kol] = data\n",
    "                    stop = True\n",
    "    return mat,row,col\n",
    "def displayData (mat,row,col) :\n",
    "    for a in range (row) :\n",
    "        print ('|',end='')\n",
    "        for b in range (col) :\n",
    "            value = str(mat.get((a,b),0))\n",
    "            print(' '*(5-len(value)) + value,end='')\n",
    "        print('     |')\n",
    "    print('-'*30)\n",
    "\n",
    "def multSparseMatrix(matx1,matx2,row1,col1,row2,col2):\n",
    "    mult = {}\n",
    "    for x in range(row1):\n",
    "        for y in range(col2):\n",
    "            nilai = 0\n",
    "            for z in range(col1):\n",
    "                nilai += matx1.get((x,z),0) * matx2.get((z,y),0)\n",
    "            mult[x,y] = nilai\n",
    "    return mult"
   ]
  },
  {
   "cell_type": "code",
   "execution_count": null,
   "metadata": {},
   "outputs": [],
   "source": [
    "#membuat matriks\n",
    "print('Matrik-1')\n",
    "matriks1,row1,col1 = sparseMatrix ()\n",
    "print(' ')\n",
    "print('Matrik-2')\n",
    "matriks2,row2,col2 = sparseMatrix ()\n",
    "print(' ')\n",
    "#nampilin matriks\n",
    "print('matrik 1 = ')\n",
    "displayData(matriks1,row1,col1)\n",
    "print('matrik 2 = ')\n",
    "displayData(matriks2,row2,col2)\n",
    "#perkalian\n",
    "kali = multSparseMatrix(matriks1,matriks2,row1,col1,row2,col2)\n",
    "print('Hasil Perkalian Matriks')\n",
    "print('matrik 1 = ')\n",
    "displayData(matriks1,row1,col1)\n",
    "print('matrik 2 = ')\n",
    "displayData(matriks2,row2,col2)\n",
    "print ('Hasil = ')\n",
    "displayData(kali,row1,col2)"
   ]
  },
  {
   "cell_type": "code",
   "execution_count": null,
   "metadata": {},
   "outputs": [],
   "source": [
    "def display(mat):\n",
    "    baris = mat['baris']\n",
    "    kolom = mat['kolom']\n",
    "    for x in range(baris):\n",
    "        print(\"|\",end=\"\")\n",
    "        for y in range(kolom):\n",
    "            print(\"%4s\"%(mat.get((x,y),0)),end=\"\")\n",
    "        print(\"%4s\"%\"|\")\n",
    "\n",
    "def multSparseMatrix2D(matriks1, matriks2) :\n",
    "    baris1=matriks1['baris']\n",
    "    kolom1=matriks1['kolom']\n",
    "    baris2=matriks2['baris']\n",
    "    kolom2=matriks2['kolom']\n",
    "    hasil={}\n",
    "    data1={}\n",
    "    data2={}\n",
    "    for i in range(baris1) :\n",
    "        for u in range(kolom1):\n",
    "            if (i,u) in matriks1 :\n",
    "                nilai1 = matriks1[(i,u)]\n",
    "                data1[(i,u)] = nilai1\n",
    "            else :\n",
    "                data1[(i,u)]=0\n",
    "    for i in range(baris2) :\n",
    "        for u in range(kolom2) :\n",
    "            if (i,u) in matriks2 :\n",
    "                nilai2=matriks2[(i,u)]\n",
    "                data2[(i,u)]=nilai2\n",
    "            else :\n",
    "                data2[(i,u)]=0\n",
    "    if kolom1==baris2 :\n",
    "        hasil['baris']=baris1\n",
    "        hasil['kolom']=kolom2\n",
    "        for i in range(baris1):\n",
    "            for k in range(kolom2):\n",
    "                temp=0\n",
    "                for j in range(kolom1):\n",
    "                    temp=temp+data1[(i,j)]*data2[(j,k)]\n",
    "                hasil[(i,k)]=temp\n",
    "        return hasil\n",
    "    else :\n",
    "        return False\n",
    "\n",
    "y = {\"baris\":3,\"kolom\":4,(0,0):2,(2,3):4}\n",
    "z = {\"baris\":4,\"kolom\":1,(0,0):3,(3,0):2}\n",
    "a = (multSparseMatrix2D(y,z))\n",
    "display(y)\n",
    "print()\n",
    "display(z)\n",
    "print()\n",
    "display(a)\n"
   ]
  },
  {
   "cell_type": "code",
   "execution_count": null,
   "metadata": {},
   "outputs": [],
   "source": [
    "def robot(string):\n",
    "    x = [0,0]\n",
    "    for i in string.upper():\n",
    "        if i == 'R':\n",
    "            x[0] += 1\n",
    "        elif i == 'L':\n",
    "            x[0] -= 1\n",
    "        elif i == 'U':\n",
    "            x[1] += 1\n",
    "        elif i == 'D':\n",
    "            x[1] -= 1\n",
    "    x = str(x)\n",
    "    return \"\".join(x)"
   ]
  },
  {
   "cell_type": "code",
   "execution_count": null,
   "metadata": {},
   "outputs": [],
   "source": [
    "a = robot(\"RUDDLDUR\")\n",
    "b = robot(\"ABRUMNURYZ\")"
   ]
  },
  {
   "cell_type": "code",
   "execution_count": null,
   "metadata": {},
   "outputs": [],
   "source": [
    "print(a)\n",
    "print(b)"
   ]
  },
  {
   "cell_type": "code",
   "execution_count": null,
   "metadata": {},
   "outputs": [],
   "source": [
    "a = [3,2,1]\n",
    "for i in range(len(a)-1):\n",
    "    print(i)\n",
    "    j = 0\n",
    "    print(j)\n",
    "    while a[j] > a[j+1] and j <= len(a):\n",
    "        a[j],a[j+1] = a[j+1],a[j]\n",
    "        j += 1\n",
    "        print(a)"
   ]
  },
  {
   "cell_type": "code",
   "execution_count": null,
   "metadata": {},
   "outputs": [],
   "source": [
    "a = [1,5,3,4]\n",
    "b = 0\n",
    "for i in reversed(range(len(a))):\n",
    "    print(i)\n",
    "    j = 0\n",
    "    print(a==c)\n",
    "    while a[b] > a[b+1] or j < i ad:\n",
    "        c = a\n",
    "        if a[j] > a[j+1]:\n",
    "            a[j],a[j+1] = a[j+1],a[j]\n",
    "        print(a)\n",
    "        \n",
    "        j += 1\n",
    "    b + 1\n",
    "   \n",
    "    \n"
   ]
  },
  {
   "cell_type": "code",
   "execution_count": null,
   "metadata": {},
   "outputs": [],
   "source": [
    "a = [1,3,2,5,4]\n",
    "for i in range(len(a)):\n",
    "    print(len(a)-(i+1))\n",
    "    for j in range(len(a)-i):\n",
    "        if a[i] > a[j]:\n",
    "            a[i],a[j] = a[j],a[i]\n",
    "        print(a)"
   ]
  },
  {
   "cell_type": "code",
   "execution_count": 4,
   "metadata": {},
   "outputs": [
    {
     "output_type": "stream",
     "name": "stdout",
     "text": [
      "False\n"
     ]
    }
   ],
   "source": [
    "print([1,2,4] == [1,2,3])"
   ]
  },
  {
   "cell_type": "code",
   "execution_count": 132,
   "metadata": {},
   "outputs": [
    {
     "output_type": "stream",
     "name": "stdout",
     "text": [
      "[1, 2, 3, 4, 7, 8, 9, 1] 2\n[1, 2, 3, 4, 7, 8, 1, 9] 0\n"
     ]
    }
   ],
   "source": [
    "import time\n",
    "def unk(a):\n",
    "    b = 0\n",
    "    awal = time.time()\n",
    "    while b < len(a)-1:\n",
    "        c = b\n",
    "        while a[c] > a[c+1] and c < len(a)-1:\n",
    "            a[c],a[c+1] = a[c+1],a[c]\n",
    "            if c < len(a)-2:\n",
    "                c += 1\n",
    "            else:\n",
    "                c = 0\n",
    "            print(a,c)\n",
    "        b += 1\n",
    "    akhir = time.time()\n",
    "a = [1,3,2,4,7,8,9,1]\n",
    "unk(a)\n",
    "\n"
   ]
  },
  {
   "cell_type": "code",
   "execution_count": null,
   "metadata": {},
   "outputs": [],
   "source": [
    "a = [1,2,4,3]\n",
    "for i in range(len(a)):\n"
   ]
  }
 ]
}